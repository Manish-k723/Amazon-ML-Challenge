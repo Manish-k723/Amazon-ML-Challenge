{
  "nbformat": 4,
  "nbformat_minor": 0,
  "metadata": {
    "colab": {
      "provenance": [],
      "mount_file_id": "1fYk6FhypL6YAMG8j8N2KQmUnAcFHRVUm",
      "authorship_tag": "ABX9TyNvBUMvvkOkJKGvtlO6ykpz",
      "include_colab_link": true
    },
    "kernelspec": {
      "name": "python3",
      "display_name": "Python 3"
    },
    "language_info": {
      "name": "python"
    },
    "accelerator": "GPU",
    "gpuClass": "standard"
  },
  "cells": [
    {
      "cell_type": "markdown",
      "metadata": {
        "id": "view-in-github",
        "colab_type": "text"
      },
      "source": [
        "<a href=\"https://colab.research.google.com/github/Manish-k723/Amazon-ML-Challenge/blob/main/Amazon.ipynb\" target=\"_parent\"><img src=\"https://colab.research.google.com/assets/colab-badge.svg\" alt=\"Open In Colab\"/></a>"
      ]
    },
    {
      "cell_type": "code",
      "execution_count": null,
      "metadata": {
        "id": "v7oHriARbUW6"
      },
      "outputs": [],
      "source": [
        "import pandas as pd\n",
        "import numpy as np"
      ]
    },
    {
      "cell_type": "code",
      "source": [
        "test_df = pd.read_csv('/content/drive/MyDrive/Colab Notebooks/test.csv')\n",
        "sub_df = pd.read_csv('/content/drive/MyDrive/Colab Notebooks/sample_submission.csv')"
      ],
      "metadata": {
        "id": "9ANe2uFQbwfh"
      },
      "execution_count": null,
      "outputs": []
    },
    {
      "cell_type": "code",
      "source": [
        "test_df.shape, sub_df.shape"
      ],
      "metadata": {
        "colab": {
          "base_uri": "https://localhost:8080/"
        },
        "id": "TnJxjiHKdhI_",
        "outputId": "95a5fa39-1012-4881-f43a-4185bc789616"
      },
      "execution_count": null,
      "outputs": [
        {
          "output_type": "execute_result",
          "data": {
            "text/plain": [
              "((734736, 5), (734736, 2))"
            ]
          },
          "metadata": {},
          "execution_count": 3
        }
      ]
    },
    {
      "cell_type": "code",
      "source": [
        "test_df.head()"
      ],
      "metadata": {
        "colab": {
          "base_uri": "https://localhost:8080/",
          "height": 285
        },
        "id": "ez9_O9h2dub5",
        "outputId": "2a64ec87-a0ec-488e-cb4f-c82ce6921b77"
      },
      "execution_count": null,
      "outputs": [
        {
          "output_type": "execute_result",
          "data": {
            "text/plain": [
              "   PRODUCT_ID                                              TITLE  \\\n",
              "0      604373  Manuel d'Héliogravure Et de Photogravure En Re...   \n",
              "1     1729783  DCGARING Microfiber Throw Blanket Warm Fuzzy P...   \n",
              "2     1871949  I-Match Auto Parts Front License Plate Bracket...   \n",
              "3     1107571  PinMart Gold Plated Excellence in Service 1 Ye...   \n",
              "4      624253  Visual Mathematics, Illustrated by the TI-92 a...   \n",
              "\n",
              "                                       BULLET_POINTS  \\\n",
              "0                                                NaN   \n",
              "1  [QUALITY GUARANTEED: Luxury cozy plush polyest...   \n",
              "2  [Front License Plate Bracket Made Of Plastic,D...   \n",
              "3  [Available as a single item or bulk packed. Se...   \n",
              "4                                                NaN   \n",
              "\n",
              "                                         DESCRIPTION  PRODUCT_TYPE_ID  \n",
              "0                                                NaN             6142  \n",
              "1  <b>DCGARING Throw Blanket</b><br><br> <b>Size ...             1622  \n",
              "2  Replacement for The Following Vehicles:2020 LE...             7540  \n",
              "3  Our Excellence in Service Lapel Pins feature a...            12442  \n",
              "4                                                NaN             6318  "
            ],
            "text/html": [
              "\n",
              "  <div id=\"df-6113a249-ce7e-401c-8171-9a851bd2d4a5\">\n",
              "    <div class=\"colab-df-container\">\n",
              "      <div>\n",
              "<style scoped>\n",
              "    .dataframe tbody tr th:only-of-type {\n",
              "        vertical-align: middle;\n",
              "    }\n",
              "\n",
              "    .dataframe tbody tr th {\n",
              "        vertical-align: top;\n",
              "    }\n",
              "\n",
              "    .dataframe thead th {\n",
              "        text-align: right;\n",
              "    }\n",
              "</style>\n",
              "<table border=\"1\" class=\"dataframe\">\n",
              "  <thead>\n",
              "    <tr style=\"text-align: right;\">\n",
              "      <th></th>\n",
              "      <th>PRODUCT_ID</th>\n",
              "      <th>TITLE</th>\n",
              "      <th>BULLET_POINTS</th>\n",
              "      <th>DESCRIPTION</th>\n",
              "      <th>PRODUCT_TYPE_ID</th>\n",
              "    </tr>\n",
              "  </thead>\n",
              "  <tbody>\n",
              "    <tr>\n",
              "      <th>0</th>\n",
              "      <td>604373</td>\n",
              "      <td>Manuel d'Héliogravure Et de Photogravure En Re...</td>\n",
              "      <td>NaN</td>\n",
              "      <td>NaN</td>\n",
              "      <td>6142</td>\n",
              "    </tr>\n",
              "    <tr>\n",
              "      <th>1</th>\n",
              "      <td>1729783</td>\n",
              "      <td>DCGARING Microfiber Throw Blanket Warm Fuzzy P...</td>\n",
              "      <td>[QUALITY GUARANTEED: Luxury cozy plush polyest...</td>\n",
              "      <td>&lt;b&gt;DCGARING Throw Blanket&lt;/b&gt;&lt;br&gt;&lt;br&gt; &lt;b&gt;Size ...</td>\n",
              "      <td>1622</td>\n",
              "    </tr>\n",
              "    <tr>\n",
              "      <th>2</th>\n",
              "      <td>1871949</td>\n",
              "      <td>I-Match Auto Parts Front License Plate Bracket...</td>\n",
              "      <td>[Front License Plate Bracket Made Of Plastic,D...</td>\n",
              "      <td>Replacement for The Following Vehicles:2020 LE...</td>\n",
              "      <td>7540</td>\n",
              "    </tr>\n",
              "    <tr>\n",
              "      <th>3</th>\n",
              "      <td>1107571</td>\n",
              "      <td>PinMart Gold Plated Excellence in Service 1 Ye...</td>\n",
              "      <td>[Available as a single item or bulk packed. Se...</td>\n",
              "      <td>Our Excellence in Service Lapel Pins feature a...</td>\n",
              "      <td>12442</td>\n",
              "    </tr>\n",
              "    <tr>\n",
              "      <th>4</th>\n",
              "      <td>624253</td>\n",
              "      <td>Visual Mathematics, Illustrated by the TI-92 a...</td>\n",
              "      <td>NaN</td>\n",
              "      <td>NaN</td>\n",
              "      <td>6318</td>\n",
              "    </tr>\n",
              "  </tbody>\n",
              "</table>\n",
              "</div>\n",
              "      <button class=\"colab-df-convert\" onclick=\"convertToInteractive('df-6113a249-ce7e-401c-8171-9a851bd2d4a5')\"\n",
              "              title=\"Convert this dataframe to an interactive table.\"\n",
              "              style=\"display:none;\">\n",
              "        \n",
              "  <svg xmlns=\"http://www.w3.org/2000/svg\" height=\"24px\"viewBox=\"0 0 24 24\"\n",
              "       width=\"24px\">\n",
              "    <path d=\"M0 0h24v24H0V0z\" fill=\"none\"/>\n",
              "    <path d=\"M18.56 5.44l.94 2.06.94-2.06 2.06-.94-2.06-.94-.94-2.06-.94 2.06-2.06.94zm-11 1L8.5 8.5l.94-2.06 2.06-.94-2.06-.94L8.5 2.5l-.94 2.06-2.06.94zm10 10l.94 2.06.94-2.06 2.06-.94-2.06-.94-.94-2.06-.94 2.06-2.06.94z\"/><path d=\"M17.41 7.96l-1.37-1.37c-.4-.4-.92-.59-1.43-.59-.52 0-1.04.2-1.43.59L10.3 9.45l-7.72 7.72c-.78.78-.78 2.05 0 2.83L4 21.41c.39.39.9.59 1.41.59.51 0 1.02-.2 1.41-.59l7.78-7.78 2.81-2.81c.8-.78.8-2.07 0-2.86zM5.41 20L4 18.59l7.72-7.72 1.47 1.35L5.41 20z\"/>\n",
              "  </svg>\n",
              "      </button>\n",
              "      \n",
              "  <style>\n",
              "    .colab-df-container {\n",
              "      display:flex;\n",
              "      flex-wrap:wrap;\n",
              "      gap: 12px;\n",
              "    }\n",
              "\n",
              "    .colab-df-convert {\n",
              "      background-color: #E8F0FE;\n",
              "      border: none;\n",
              "      border-radius: 50%;\n",
              "      cursor: pointer;\n",
              "      display: none;\n",
              "      fill: #1967D2;\n",
              "      height: 32px;\n",
              "      padding: 0 0 0 0;\n",
              "      width: 32px;\n",
              "    }\n",
              "\n",
              "    .colab-df-convert:hover {\n",
              "      background-color: #E2EBFA;\n",
              "      box-shadow: 0px 1px 2px rgba(60, 64, 67, 0.3), 0px 1px 3px 1px rgba(60, 64, 67, 0.15);\n",
              "      fill: #174EA6;\n",
              "    }\n",
              "\n",
              "    [theme=dark] .colab-df-convert {\n",
              "      background-color: #3B4455;\n",
              "      fill: #D2E3FC;\n",
              "    }\n",
              "\n",
              "    [theme=dark] .colab-df-convert:hover {\n",
              "      background-color: #434B5C;\n",
              "      box-shadow: 0px 1px 3px 1px rgba(0, 0, 0, 0.15);\n",
              "      filter: drop-shadow(0px 1px 2px rgba(0, 0, 0, 0.3));\n",
              "      fill: #FFFFFF;\n",
              "    }\n",
              "  </style>\n",
              "\n",
              "      <script>\n",
              "        const buttonEl =\n",
              "          document.querySelector('#df-6113a249-ce7e-401c-8171-9a851bd2d4a5 button.colab-df-convert');\n",
              "        buttonEl.style.display =\n",
              "          google.colab.kernel.accessAllowed ? 'block' : 'none';\n",
              "\n",
              "        async function convertToInteractive(key) {\n",
              "          const element = document.querySelector('#df-6113a249-ce7e-401c-8171-9a851bd2d4a5');\n",
              "          const dataTable =\n",
              "            await google.colab.kernel.invokeFunction('convertToInteractive',\n",
              "                                                     [key], {});\n",
              "          if (!dataTable) return;\n",
              "\n",
              "          const docLinkHtml = 'Like what you see? Visit the ' +\n",
              "            '<a target=\"_blank\" href=https://colab.research.google.com/notebooks/data_table.ipynb>data table notebook</a>'\n",
              "            + ' to learn more about interactive tables.';\n",
              "          element.innerHTML = '';\n",
              "          dataTable['output_type'] = 'display_data';\n",
              "          await google.colab.output.renderOutput(dataTable, element);\n",
              "          const docLink = document.createElement('div');\n",
              "          docLink.innerHTML = docLinkHtml;\n",
              "          element.appendChild(docLink);\n",
              "        }\n",
              "      </script>\n",
              "    </div>\n",
              "  </div>\n",
              "  "
            ]
          },
          "metadata": {},
          "execution_count": 4
        }
      ]
    },
    {
      "cell_type": "code",
      "source": [
        "see = 10000"
      ],
      "metadata": {
        "id": "dab-JmyQKjZ3"
      },
      "execution_count": null,
      "outputs": []
    },
    {
      "cell_type": "code",
      "source": [
        "data = pd.read_csv('/content/drive/MyDrive/Colab Notebooks/train.csv',nrows = see)"
      ],
      "metadata": {
        "id": "NGoTu94EdsOf"
      },
      "execution_count": null,
      "outputs": []
    },
    {
      "cell_type": "code",
      "source": [
        "data.sample(5)"
      ],
      "metadata": {
        "colab": {
          "base_uri": "https://localhost:8080/",
          "height": 320
        },
        "id": "SqDQdWqiJ1xx",
        "outputId": "ad0e630b-8cac-4b55-a243-8ee5457ab87a"
      },
      "execution_count": null,
      "outputs": [
        {
          "output_type": "execute_result",
          "data": {
            "text/plain": [
              "      PRODUCT_ID                                              TITLE  \\\n",
              "2618     1788720  Sound Town 180Watts 6-Zone 70V/100V Commercial...   \n",
              "8838     2717649  FairyLove Womens Casual Long Bell Sleeves Dres...   \n",
              "6097      658349                                       Le promeneur   \n",
              "6477     2591117               Spykar Mens Cotton Black Solid Jeans   \n",
              "7207     2968138  LOKATSE HOME 5 Pieces Wicker Patio Furniture S...   \n",
              "\n",
              "                                          BULLET_POINTS  \\\n",
              "2618  [6-zone speaker outputs with individual contro...   \n",
              "8838  [Polyester and Spandex Lightweight Stretchy Br...   \n",
              "6097                                                NaN   \n",
              "6477  [Pattern: Solid,Material: Cotton,Fitting type:...   \n",
              "7207  [DURABLE MATERIAL - These chairs and ottoman m...   \n",
              "\n",
              "                                            DESCRIPTION  PRODUCT_TYPE_ID  \\\n",
              "2618  <b> Sound Town 180 Watts 6-Zone 70V/100V Comme...             2154   \n",
              "8838  Women Summer Short Sleeve Ruffle Loose Swing C...             2986   \n",
              "6097                                                NaN                1   \n",
              "6477                                                NaN             2835   \n",
              "7207                                                NaN             5600   \n",
              "\n",
              "      PRODUCT_LENGTH  \n",
              "2618     2090.000000  \n",
              "8838      984.251967  \n",
              "6097      472.440000  \n",
              "6477     1181.100000  \n",
              "7207     2800.000000  "
            ],
            "text/html": [
              "\n",
              "  <div id=\"df-89816aea-f6d9-4d48-be8d-ecf65fb434e9\">\n",
              "    <div class=\"colab-df-container\">\n",
              "      <div>\n",
              "<style scoped>\n",
              "    .dataframe tbody tr th:only-of-type {\n",
              "        vertical-align: middle;\n",
              "    }\n",
              "\n",
              "    .dataframe tbody tr th {\n",
              "        vertical-align: top;\n",
              "    }\n",
              "\n",
              "    .dataframe thead th {\n",
              "        text-align: right;\n",
              "    }\n",
              "</style>\n",
              "<table border=\"1\" class=\"dataframe\">\n",
              "  <thead>\n",
              "    <tr style=\"text-align: right;\">\n",
              "      <th></th>\n",
              "      <th>PRODUCT_ID</th>\n",
              "      <th>TITLE</th>\n",
              "      <th>BULLET_POINTS</th>\n",
              "      <th>DESCRIPTION</th>\n",
              "      <th>PRODUCT_TYPE_ID</th>\n",
              "      <th>PRODUCT_LENGTH</th>\n",
              "    </tr>\n",
              "  </thead>\n",
              "  <tbody>\n",
              "    <tr>\n",
              "      <th>2618</th>\n",
              "      <td>1788720</td>\n",
              "      <td>Sound Town 180Watts 6-Zone 70V/100V Commercial...</td>\n",
              "      <td>[6-zone speaker outputs with individual contro...</td>\n",
              "      <td>&lt;b&gt; Sound Town 180 Watts 6-Zone 70V/100V Comme...</td>\n",
              "      <td>2154</td>\n",
              "      <td>2090.000000</td>\n",
              "    </tr>\n",
              "    <tr>\n",
              "      <th>8838</th>\n",
              "      <td>2717649</td>\n",
              "      <td>FairyLove Womens Casual Long Bell Sleeves Dres...</td>\n",
              "      <td>[Polyester and Spandex Lightweight Stretchy Br...</td>\n",
              "      <td>Women Summer Short Sleeve Ruffle Loose Swing C...</td>\n",
              "      <td>2986</td>\n",
              "      <td>984.251967</td>\n",
              "    </tr>\n",
              "    <tr>\n",
              "      <th>6097</th>\n",
              "      <td>658349</td>\n",
              "      <td>Le promeneur</td>\n",
              "      <td>NaN</td>\n",
              "      <td>NaN</td>\n",
              "      <td>1</td>\n",
              "      <td>472.440000</td>\n",
              "    </tr>\n",
              "    <tr>\n",
              "      <th>6477</th>\n",
              "      <td>2591117</td>\n",
              "      <td>Spykar Mens Cotton Black Solid Jeans</td>\n",
              "      <td>[Pattern: Solid,Material: Cotton,Fitting type:...</td>\n",
              "      <td>NaN</td>\n",
              "      <td>2835</td>\n",
              "      <td>1181.100000</td>\n",
              "    </tr>\n",
              "    <tr>\n",
              "      <th>7207</th>\n",
              "      <td>2968138</td>\n",
              "      <td>LOKATSE HOME 5 Pieces Wicker Patio Furniture S...</td>\n",
              "      <td>[DURABLE MATERIAL - These chairs and ottoman m...</td>\n",
              "      <td>NaN</td>\n",
              "      <td>5600</td>\n",
              "      <td>2800.000000</td>\n",
              "    </tr>\n",
              "  </tbody>\n",
              "</table>\n",
              "</div>\n",
              "      <button class=\"colab-df-convert\" onclick=\"convertToInteractive('df-89816aea-f6d9-4d48-be8d-ecf65fb434e9')\"\n",
              "              title=\"Convert this dataframe to an interactive table.\"\n",
              "              style=\"display:none;\">\n",
              "        \n",
              "  <svg xmlns=\"http://www.w3.org/2000/svg\" height=\"24px\"viewBox=\"0 0 24 24\"\n",
              "       width=\"24px\">\n",
              "    <path d=\"M0 0h24v24H0V0z\" fill=\"none\"/>\n",
              "    <path d=\"M18.56 5.44l.94 2.06.94-2.06 2.06-.94-2.06-.94-.94-2.06-.94 2.06-2.06.94zm-11 1L8.5 8.5l.94-2.06 2.06-.94-2.06-.94L8.5 2.5l-.94 2.06-2.06.94zm10 10l.94 2.06.94-2.06 2.06-.94-2.06-.94-.94-2.06-.94 2.06-2.06.94z\"/><path d=\"M17.41 7.96l-1.37-1.37c-.4-.4-.92-.59-1.43-.59-.52 0-1.04.2-1.43.59L10.3 9.45l-7.72 7.72c-.78.78-.78 2.05 0 2.83L4 21.41c.39.39.9.59 1.41.59.51 0 1.02-.2 1.41-.59l7.78-7.78 2.81-2.81c.8-.78.8-2.07 0-2.86zM5.41 20L4 18.59l7.72-7.72 1.47 1.35L5.41 20z\"/>\n",
              "  </svg>\n",
              "      </button>\n",
              "      \n",
              "  <style>\n",
              "    .colab-df-container {\n",
              "      display:flex;\n",
              "      flex-wrap:wrap;\n",
              "      gap: 12px;\n",
              "    }\n",
              "\n",
              "    .colab-df-convert {\n",
              "      background-color: #E8F0FE;\n",
              "      border: none;\n",
              "      border-radius: 50%;\n",
              "      cursor: pointer;\n",
              "      display: none;\n",
              "      fill: #1967D2;\n",
              "      height: 32px;\n",
              "      padding: 0 0 0 0;\n",
              "      width: 32px;\n",
              "    }\n",
              "\n",
              "    .colab-df-convert:hover {\n",
              "      background-color: #E2EBFA;\n",
              "      box-shadow: 0px 1px 2px rgba(60, 64, 67, 0.3), 0px 1px 3px 1px rgba(60, 64, 67, 0.15);\n",
              "      fill: #174EA6;\n",
              "    }\n",
              "\n",
              "    [theme=dark] .colab-df-convert {\n",
              "      background-color: #3B4455;\n",
              "      fill: #D2E3FC;\n",
              "    }\n",
              "\n",
              "    [theme=dark] .colab-df-convert:hover {\n",
              "      background-color: #434B5C;\n",
              "      box-shadow: 0px 1px 3px 1px rgba(0, 0, 0, 0.15);\n",
              "      filter: drop-shadow(0px 1px 2px rgba(0, 0, 0, 0.3));\n",
              "      fill: #FFFFFF;\n",
              "    }\n",
              "  </style>\n",
              "\n",
              "      <script>\n",
              "        const buttonEl =\n",
              "          document.querySelector('#df-89816aea-f6d9-4d48-be8d-ecf65fb434e9 button.colab-df-convert');\n",
              "        buttonEl.style.display =\n",
              "          google.colab.kernel.accessAllowed ? 'block' : 'none';\n",
              "\n",
              "        async function convertToInteractive(key) {\n",
              "          const element = document.querySelector('#df-89816aea-f6d9-4d48-be8d-ecf65fb434e9');\n",
              "          const dataTable =\n",
              "            await google.colab.kernel.invokeFunction('convertToInteractive',\n",
              "                                                     [key], {});\n",
              "          if (!dataTable) return;\n",
              "\n",
              "          const docLinkHtml = 'Like what you see? Visit the ' +\n",
              "            '<a target=\"_blank\" href=https://colab.research.google.com/notebooks/data_table.ipynb>data table notebook</a>'\n",
              "            + ' to learn more about interactive tables.';\n",
              "          element.innerHTML = '';\n",
              "          dataTable['output_type'] = 'display_data';\n",
              "          await google.colab.output.renderOutput(dataTable, element);\n",
              "          const docLink = document.createElement('div');\n",
              "          docLink.innerHTML = docLinkHtml;\n",
              "          element.appendChild(docLink);\n",
              "        }\n",
              "      </script>\n",
              "    </div>\n",
              "  </div>\n",
              "  "
            ]
          },
          "metadata": {},
          "execution_count": 26
        }
      ]
    },
    {
      "cell_type": "code",
      "source": [
        "data.isna().mean()*100"
      ],
      "metadata": {
        "colab": {
          "base_uri": "https://localhost:8080/"
        },
        "id": "2fqdDtq0J_Fj",
        "outputId": "2b97381b-b623-446d-a728-80c7361fdd49"
      },
      "execution_count": null,
      "outputs": [
        {
          "output_type": "execute_result",
          "data": {
            "text/plain": [
              "PRODUCT_ID          0.00\n",
              "TITLE               0.00\n",
              "BULLET_POINTS      37.00\n",
              "DESCRIPTION        51.76\n",
              "PRODUCT_TYPE_ID     0.00\n",
              "PRODUCT_LENGTH      0.00\n",
              "dtype: float64"
            ]
          },
          "metadata": {},
          "execution_count": 27
        }
      ]
    },
    {
      "cell_type": "markdown",
      "source": [
        "About 40% and 50% of data is not present in the bullet_points and description columns."
      ],
      "metadata": {
        "id": "cBFDKgLFKUOM"
      }
    },
    {
      "cell_type": "code",
      "source": [
        "data.info()"
      ],
      "metadata": {
        "colab": {
          "base_uri": "https://localhost:8080/"
        },
        "id": "4OmPSFGNKThD",
        "outputId": "e3cd5692-6e7a-417b-9030-0223ead1ac1f"
      },
      "execution_count": null,
      "outputs": [
        {
          "output_type": "stream",
          "name": "stdout",
          "text": [
            "<class 'pandas.core.frame.DataFrame'>\n",
            "RangeIndex: 10000 entries, 0 to 9999\n",
            "Data columns (total 6 columns):\n",
            " #   Column           Non-Null Count  Dtype  \n",
            "---  ------           --------------  -----  \n",
            " 0   PRODUCT_ID       10000 non-null  int64  \n",
            " 1   TITLE            10000 non-null  object \n",
            " 2   BULLET_POINTS    6300 non-null   object \n",
            " 3   DESCRIPTION      4824 non-null   object \n",
            " 4   PRODUCT_TYPE_ID  10000 non-null  int64  \n",
            " 5   PRODUCT_LENGTH   10000 non-null  float64\n",
            "dtypes: float64(1), int64(2), object(3)\n",
            "memory usage: 468.9+ KB\n"
          ]
        }
      ]
    },
    {
      "cell_type": "code",
      "source": [
        "test_df.info()"
      ],
      "metadata": {
        "colab": {
          "base_uri": "https://localhost:8080/"
        },
        "id": "HzpEVGnxKOSf",
        "outputId": "d89dd02c-1b7a-4092-edb9-4397f18019f7"
      },
      "execution_count": null,
      "outputs": [
        {
          "output_type": "stream",
          "name": "stdout",
          "text": [
            "<class 'pandas.core.frame.DataFrame'>\n",
            "RangeIndex: 734736 entries, 0 to 734735\n",
            "Data columns (total 5 columns):\n",
            " #   Column           Non-Null Count   Dtype \n",
            "---  ------           --------------   ----- \n",
            " 0   PRODUCT_ID       734736 non-null  int64 \n",
            " 1   TITLE            734731 non-null  object\n",
            " 2   BULLET_POINTS    458814 non-null  object\n",
            " 3   DESCRIPTION      354735 non-null  object\n",
            " 4   PRODUCT_TYPE_ID  734736 non-null  int64 \n",
            "dtypes: int64(2), object(3)\n",
            "memory usage: 28.0+ MB\n"
          ]
        }
      ]
    },
    {
      "cell_type": "code",
      "source": [
        "%%time\n",
        "df = pd.read_csv('/content/drive/MyDrive/Colab Notebooks/train.csv')"
      ],
      "metadata": {
        "id": "wz0woEwJLW6B"
      },
      "execution_count": null,
      "outputs": []
    },
    {
      "cell_type": "code",
      "source": [
        "%%time\n",
        "df.isna().sum()"
      ],
      "metadata": {
        "colab": {
          "base_uri": "https://localhost:8080/"
        },
        "id": "rj6f8Y2iLbnE",
        "outputId": "86c3e772-7682-43aa-e3e0-7f9afb7f3a55"
      },
      "execution_count": null,
      "outputs": [
        {
          "output_type": "stream",
          "name": "stdout",
          "text": [
            "CPU times: user 2.06 s, sys: 16.2 ms, total: 2.08 s\n",
            "Wall time: 2.11 s\n"
          ]
        },
        {
          "output_type": "execute_result",
          "data": {
            "text/plain": [
              "PRODUCT_ID               0\n",
              "TITLE                   12\n",
              "BULLET_POINTS       837364\n",
              "DESCRIPTION        1157381\n",
              "PRODUCT_TYPE_ID          0\n",
              "PRODUCT_LENGTH           0\n",
              "dtype: int64"
            ]
          },
          "metadata": {},
          "execution_count": 33
        }
      ]
    },
    {
      "cell_type": "code",
      "source": [
        "df.dropna(subset = ['TITLE'], inplace = True)"
      ],
      "metadata": {
        "id": "2Rx4G9DBLvnS"
      },
      "execution_count": null,
      "outputs": []
    },
    {
      "cell_type": "code",
      "source": [
        "df.shape"
      ],
      "metadata": {
        "colab": {
          "base_uri": "https://localhost:8080/"
        },
        "id": "sNMWqEMxLvih",
        "outputId": "eeb5d84e-840c-4efe-9a00-e3a4b7613b77"
      },
      "execution_count": null,
      "outputs": [
        {
          "output_type": "execute_result",
          "data": {
            "text/plain": [
              "(2249686, 6)"
            ]
          },
          "metadata": {},
          "execution_count": 38
        }
      ]
    },
    {
      "cell_type": "code",
      "source": [
        "df.isna().sum()"
      ],
      "metadata": {
        "colab": {
          "base_uri": "https://localhost:8080/"
        },
        "id": "QE2OlMK5Lvgx",
        "outputId": "54aea252-3c0e-4fb3-d611-73c6b0a9ad75"
      },
      "execution_count": null,
      "outputs": [
        {
          "output_type": "execute_result",
          "data": {
            "text/plain": [
              "PRODUCT_ID               0\n",
              "TITLE                    0\n",
              "BULLET_POINTS       837354\n",
              "DESCRIPTION        1157369\n",
              "PRODUCT_TYPE_ID          0\n",
              "PRODUCT_LENGTH           0\n",
              "dtype: int64"
            ]
          },
          "metadata": {},
          "execution_count": 39
        }
      ]
    },
    {
      "cell_type": "code",
      "source": [
        "print('Average Length', df.PRODUCT_LENGTH.mean())\n",
        "print('Variance of product Length', df.PRODUCT_LENGTH.var())\n",
        "print('Standard Deviation',df.PRODUCT_LENGTH.std())"
      ],
      "metadata": {
        "colab": {
          "base_uri": "https://localhost:8080/"
        },
        "id": "7zsukVFEOJ-V",
        "outputId": "7be05099-b4f1-4d36-ec5f-4adbd578edd6"
      },
      "execution_count": null,
      "outputs": [
        {
          "output_type": "stream",
          "name": "stdout",
          "text": [
            "Average Length 4071.8570213743983\n",
            "Variance of product Length 1827061408872.2551\n",
            "Standard Deviation 1351688.354936986\n"
          ]
        }
      ]
    },
    {
      "cell_type": "code",
      "source": [
        "average = df.PRODUCT_LENGTH.mean()"
      ],
      "metadata": {
        "id": "2TAaSPTjPU4R"
      },
      "execution_count": null,
      "outputs": []
    },
    {
      "cell_type": "markdown",
      "source": [
        "# **Training Baseline Models**"
      ],
      "metadata": {
        "id": "-KyAsq-oPMJy"
      }
    },
    {
      "cell_type": "code",
      "source": [
        "sub_df['PRODUCT_LENGTH'] = average"
      ],
      "metadata": {
        "id": "eGiNhr3sOUj7"
      },
      "execution_count": null,
      "outputs": []
    },
    {
      "cell_type": "code",
      "source": [
        "sub_df.to_csv('submission1.csv')"
      ],
      "metadata": {
        "id": "fUMf-RZoPLMw"
      },
      "execution_count": null,
      "outputs": []
    },
    {
      "cell_type": "code",
      "source": [
        "df.describe()"
      ],
      "metadata": {
        "colab": {
          "base_uri": "https://localhost:8080/",
          "height": 300
        },
        "id": "S_dnnFfxQocR",
        "outputId": "dee0f1a9-e2b1-4d43-ece4-86d0e1911e6e"
      },
      "execution_count": null,
      "outputs": [
        {
          "output_type": "execute_result",
          "data": {
            "text/plain": [
              "         PRODUCT_ID  PRODUCT_TYPE_ID  PRODUCT_LENGTH\n",
              "count  2.249686e+06     2.249686e+06    2.249686e+06\n",
              "mean   1.499801e+06     4.000468e+03    4.071857e+03\n",
              "std    8.661929e+05     3.966149e+03    1.351688e+06\n",
              "min    1.000000e+00     0.000000e+00    1.000000e+00\n",
              "25%    7.494882e+05     2.300000e+02    5.118110e+02\n",
              "50%    1.499564e+06     2.916000e+03    6.630000e+02\n",
              "75%    2.250669e+06     6.403000e+03    1.062992e+03\n",
              "max    2.999999e+06     1.342000e+04    1.885801e+09"
            ],
            "text/html": [
              "\n",
              "  <div id=\"df-0edab48b-5a93-4e8b-b48e-c0c67e9599aa\">\n",
              "    <div class=\"colab-df-container\">\n",
              "      <div>\n",
              "<style scoped>\n",
              "    .dataframe tbody tr th:only-of-type {\n",
              "        vertical-align: middle;\n",
              "    }\n",
              "\n",
              "    .dataframe tbody tr th {\n",
              "        vertical-align: top;\n",
              "    }\n",
              "\n",
              "    .dataframe thead th {\n",
              "        text-align: right;\n",
              "    }\n",
              "</style>\n",
              "<table border=\"1\" class=\"dataframe\">\n",
              "  <thead>\n",
              "    <tr style=\"text-align: right;\">\n",
              "      <th></th>\n",
              "      <th>PRODUCT_ID</th>\n",
              "      <th>PRODUCT_TYPE_ID</th>\n",
              "      <th>PRODUCT_LENGTH</th>\n",
              "    </tr>\n",
              "  </thead>\n",
              "  <tbody>\n",
              "    <tr>\n",
              "      <th>count</th>\n",
              "      <td>2.249686e+06</td>\n",
              "      <td>2.249686e+06</td>\n",
              "      <td>2.249686e+06</td>\n",
              "    </tr>\n",
              "    <tr>\n",
              "      <th>mean</th>\n",
              "      <td>1.499801e+06</td>\n",
              "      <td>4.000468e+03</td>\n",
              "      <td>4.071857e+03</td>\n",
              "    </tr>\n",
              "    <tr>\n",
              "      <th>std</th>\n",
              "      <td>8.661929e+05</td>\n",
              "      <td>3.966149e+03</td>\n",
              "      <td>1.351688e+06</td>\n",
              "    </tr>\n",
              "    <tr>\n",
              "      <th>min</th>\n",
              "      <td>1.000000e+00</td>\n",
              "      <td>0.000000e+00</td>\n",
              "      <td>1.000000e+00</td>\n",
              "    </tr>\n",
              "    <tr>\n",
              "      <th>25%</th>\n",
              "      <td>7.494882e+05</td>\n",
              "      <td>2.300000e+02</td>\n",
              "      <td>5.118110e+02</td>\n",
              "    </tr>\n",
              "    <tr>\n",
              "      <th>50%</th>\n",
              "      <td>1.499564e+06</td>\n",
              "      <td>2.916000e+03</td>\n",
              "      <td>6.630000e+02</td>\n",
              "    </tr>\n",
              "    <tr>\n",
              "      <th>75%</th>\n",
              "      <td>2.250669e+06</td>\n",
              "      <td>6.403000e+03</td>\n",
              "      <td>1.062992e+03</td>\n",
              "    </tr>\n",
              "    <tr>\n",
              "      <th>max</th>\n",
              "      <td>2.999999e+06</td>\n",
              "      <td>1.342000e+04</td>\n",
              "      <td>1.885801e+09</td>\n",
              "    </tr>\n",
              "  </tbody>\n",
              "</table>\n",
              "</div>\n",
              "      <button class=\"colab-df-convert\" onclick=\"convertToInteractive('df-0edab48b-5a93-4e8b-b48e-c0c67e9599aa')\"\n",
              "              title=\"Convert this dataframe to an interactive table.\"\n",
              "              style=\"display:none;\">\n",
              "        \n",
              "  <svg xmlns=\"http://www.w3.org/2000/svg\" height=\"24px\"viewBox=\"0 0 24 24\"\n",
              "       width=\"24px\">\n",
              "    <path d=\"M0 0h24v24H0V0z\" fill=\"none\"/>\n",
              "    <path d=\"M18.56 5.44l.94 2.06.94-2.06 2.06-.94-2.06-.94-.94-2.06-.94 2.06-2.06.94zm-11 1L8.5 8.5l.94-2.06 2.06-.94-2.06-.94L8.5 2.5l-.94 2.06-2.06.94zm10 10l.94 2.06.94-2.06 2.06-.94-2.06-.94-.94-2.06-.94 2.06-2.06.94z\"/><path d=\"M17.41 7.96l-1.37-1.37c-.4-.4-.92-.59-1.43-.59-.52 0-1.04.2-1.43.59L10.3 9.45l-7.72 7.72c-.78.78-.78 2.05 0 2.83L4 21.41c.39.39.9.59 1.41.59.51 0 1.02-.2 1.41-.59l7.78-7.78 2.81-2.81c.8-.78.8-2.07 0-2.86zM5.41 20L4 18.59l7.72-7.72 1.47 1.35L5.41 20z\"/>\n",
              "  </svg>\n",
              "      </button>\n",
              "      \n",
              "  <style>\n",
              "    .colab-df-container {\n",
              "      display:flex;\n",
              "      flex-wrap:wrap;\n",
              "      gap: 12px;\n",
              "    }\n",
              "\n",
              "    .colab-df-convert {\n",
              "      background-color: #E8F0FE;\n",
              "      border: none;\n",
              "      border-radius: 50%;\n",
              "      cursor: pointer;\n",
              "      display: none;\n",
              "      fill: #1967D2;\n",
              "      height: 32px;\n",
              "      padding: 0 0 0 0;\n",
              "      width: 32px;\n",
              "    }\n",
              "\n",
              "    .colab-df-convert:hover {\n",
              "      background-color: #E2EBFA;\n",
              "      box-shadow: 0px 1px 2px rgba(60, 64, 67, 0.3), 0px 1px 3px 1px rgba(60, 64, 67, 0.15);\n",
              "      fill: #174EA6;\n",
              "    }\n",
              "\n",
              "    [theme=dark] .colab-df-convert {\n",
              "      background-color: #3B4455;\n",
              "      fill: #D2E3FC;\n",
              "    }\n",
              "\n",
              "    [theme=dark] .colab-df-convert:hover {\n",
              "      background-color: #434B5C;\n",
              "      box-shadow: 0px 1px 3px 1px rgba(0, 0, 0, 0.15);\n",
              "      filter: drop-shadow(0px 1px 2px rgba(0, 0, 0, 0.3));\n",
              "      fill: #FFFFFF;\n",
              "    }\n",
              "  </style>\n",
              "\n",
              "      <script>\n",
              "        const buttonEl =\n",
              "          document.querySelector('#df-0edab48b-5a93-4e8b-b48e-c0c67e9599aa button.colab-df-convert');\n",
              "        buttonEl.style.display =\n",
              "          google.colab.kernel.accessAllowed ? 'block' : 'none';\n",
              "\n",
              "        async function convertToInteractive(key) {\n",
              "          const element = document.querySelector('#df-0edab48b-5a93-4e8b-b48e-c0c67e9599aa');\n",
              "          const dataTable =\n",
              "            await google.colab.kernel.invokeFunction('convertToInteractive',\n",
              "                                                     [key], {});\n",
              "          if (!dataTable) return;\n",
              "\n",
              "          const docLinkHtml = 'Like what you see? Visit the ' +\n",
              "            '<a target=\"_blank\" href=https://colab.research.google.com/notebooks/data_table.ipynb>data table notebook</a>'\n",
              "            + ' to learn more about interactive tables.';\n",
              "          element.innerHTML = '';\n",
              "          dataTable['output_type'] = 'display_data';\n",
              "          await google.colab.output.renderOutput(dataTable, element);\n",
              "          const docLink = document.createElement('div');\n",
              "          docLink.innerHTML = docLinkHtml;\n",
              "          element.appendChild(docLink);\n",
              "        }\n",
              "      </script>\n",
              "    </div>\n",
              "  </div>\n",
              "  "
            ]
          },
          "metadata": {},
          "execution_count": 63
        }
      ]
    },
    {
      "cell_type": "code",
      "source": [
        "for col in df.columns:\n",
        "    if df[col].duplicated().any():\n",
        "        print(f\"{col} has {df[col].duplicated().sum()} duplicated values.\")"
      ],
      "metadata": {
        "colab": {
          "base_uri": "https://localhost:8080/"
        },
        "id": "EsbdjKPPQ5hA",
        "outputId": "d76d9cad-0e51-45f9-8c06-4e0ffeb2c59a"
      },
      "execution_count": null,
      "outputs": [
        {
          "output_type": "stream",
          "name": "stdout",
          "text": [
            "TITLE has 38924 duplicated values.\n",
            "BULLET_POINTS has 1284356 duplicated values.\n",
            "DESCRIPTION has 1504410 duplicated values.\n",
            "PRODUCT_TYPE_ID has 2236779 duplicated values.\n",
            "PRODUCT_LENGTH has 2233031 duplicated values.\n"
          ]
        }
      ]
    },
    {
      "cell_type": "code",
      "source": [
        "np.random.uniform(1,1.885801e+03)"
      ],
      "metadata": {
        "colab": {
          "base_uri": "https://localhost:8080/"
        },
        "id": "dP-eeH85R8vG",
        "outputId": "5a8c117b-a018-4396-dff0-647f513bfb9f"
      },
      "execution_count": null,
      "outputs": [
        {
          "output_type": "execute_result",
          "data": {
            "text/plain": [
              "443.6467689647983"
            ]
          },
          "metadata": {},
          "execution_count": 82
        }
      ]
    },
    {
      "cell_type": "code",
      "source": [
        "def random(id):\n",
        "  return np.random.uniform(1,1.885801e+03)"
      ],
      "metadata": {
        "id": "rW0_ImDdRsDm"
      },
      "execution_count": null,
      "outputs": []
    },
    {
      "cell_type": "code",
      "source": [
        "sub_df['PRODUCT_LENGTH'] = sub_df['PRODUCT_LENGTH'].apply(random)"
      ],
      "metadata": {
        "id": "KkjgqdOOSPRD"
      },
      "execution_count": null,
      "outputs": []
    },
    {
      "cell_type": "code",
      "source": [
        "sub_df.sample(10)"
      ],
      "metadata": {
        "colab": {
          "base_uri": "https://localhost:8080/",
          "height": 363
        },
        "id": "OJlkqBLqSaYK",
        "outputId": "f226d767-62a3-441a-85b0-95990cddfdc1"
      },
      "execution_count": null,
      "outputs": [
        {
          "output_type": "execute_result",
          "data": {
            "text/plain": [
              "        PRODUCT_ID  PRODUCT_LENGTH\n",
              "37942      1670649      367.525780\n",
              "390300     1744727     1043.643930\n",
              "97788       852716      365.771583\n",
              "719568       92386       28.766505\n",
              "247461     1002724     1232.293364\n",
              "234979     2647642     1770.272582\n",
              "189203     2708319     1492.529397\n",
              "274465     1162763      130.367189\n",
              "349220     2036080     1638.717144\n",
              "546148      835920      680.487165"
            ],
            "text/html": [
              "\n",
              "  <div id=\"df-ede2c3e4-33ad-435f-b79f-0025c409f4d6\">\n",
              "    <div class=\"colab-df-container\">\n",
              "      <div>\n",
              "<style scoped>\n",
              "    .dataframe tbody tr th:only-of-type {\n",
              "        vertical-align: middle;\n",
              "    }\n",
              "\n",
              "    .dataframe tbody tr th {\n",
              "        vertical-align: top;\n",
              "    }\n",
              "\n",
              "    .dataframe thead th {\n",
              "        text-align: right;\n",
              "    }\n",
              "</style>\n",
              "<table border=\"1\" class=\"dataframe\">\n",
              "  <thead>\n",
              "    <tr style=\"text-align: right;\">\n",
              "      <th></th>\n",
              "      <th>PRODUCT_ID</th>\n",
              "      <th>PRODUCT_LENGTH</th>\n",
              "    </tr>\n",
              "  </thead>\n",
              "  <tbody>\n",
              "    <tr>\n",
              "      <th>37942</th>\n",
              "      <td>1670649</td>\n",
              "      <td>367.525780</td>\n",
              "    </tr>\n",
              "    <tr>\n",
              "      <th>390300</th>\n",
              "      <td>1744727</td>\n",
              "      <td>1043.643930</td>\n",
              "    </tr>\n",
              "    <tr>\n",
              "      <th>97788</th>\n",
              "      <td>852716</td>\n",
              "      <td>365.771583</td>\n",
              "    </tr>\n",
              "    <tr>\n",
              "      <th>719568</th>\n",
              "      <td>92386</td>\n",
              "      <td>28.766505</td>\n",
              "    </tr>\n",
              "    <tr>\n",
              "      <th>247461</th>\n",
              "      <td>1002724</td>\n",
              "      <td>1232.293364</td>\n",
              "    </tr>\n",
              "    <tr>\n",
              "      <th>234979</th>\n",
              "      <td>2647642</td>\n",
              "      <td>1770.272582</td>\n",
              "    </tr>\n",
              "    <tr>\n",
              "      <th>189203</th>\n",
              "      <td>2708319</td>\n",
              "      <td>1492.529397</td>\n",
              "    </tr>\n",
              "    <tr>\n",
              "      <th>274465</th>\n",
              "      <td>1162763</td>\n",
              "      <td>130.367189</td>\n",
              "    </tr>\n",
              "    <tr>\n",
              "      <th>349220</th>\n",
              "      <td>2036080</td>\n",
              "      <td>1638.717144</td>\n",
              "    </tr>\n",
              "    <tr>\n",
              "      <th>546148</th>\n",
              "      <td>835920</td>\n",
              "      <td>680.487165</td>\n",
              "    </tr>\n",
              "  </tbody>\n",
              "</table>\n",
              "</div>\n",
              "      <button class=\"colab-df-convert\" onclick=\"convertToInteractive('df-ede2c3e4-33ad-435f-b79f-0025c409f4d6')\"\n",
              "              title=\"Convert this dataframe to an interactive table.\"\n",
              "              style=\"display:none;\">\n",
              "        \n",
              "  <svg xmlns=\"http://www.w3.org/2000/svg\" height=\"24px\"viewBox=\"0 0 24 24\"\n",
              "       width=\"24px\">\n",
              "    <path d=\"M0 0h24v24H0V0z\" fill=\"none\"/>\n",
              "    <path d=\"M18.56 5.44l.94 2.06.94-2.06 2.06-.94-2.06-.94-.94-2.06-.94 2.06-2.06.94zm-11 1L8.5 8.5l.94-2.06 2.06-.94-2.06-.94L8.5 2.5l-.94 2.06-2.06.94zm10 10l.94 2.06.94-2.06 2.06-.94-2.06-.94-.94-2.06-.94 2.06-2.06.94z\"/><path d=\"M17.41 7.96l-1.37-1.37c-.4-.4-.92-.59-1.43-.59-.52 0-1.04.2-1.43.59L10.3 9.45l-7.72 7.72c-.78.78-.78 2.05 0 2.83L4 21.41c.39.39.9.59 1.41.59.51 0 1.02-.2 1.41-.59l7.78-7.78 2.81-2.81c.8-.78.8-2.07 0-2.86zM5.41 20L4 18.59l7.72-7.72 1.47 1.35L5.41 20z\"/>\n",
              "  </svg>\n",
              "      </button>\n",
              "      \n",
              "  <style>\n",
              "    .colab-df-container {\n",
              "      display:flex;\n",
              "      flex-wrap:wrap;\n",
              "      gap: 12px;\n",
              "    }\n",
              "\n",
              "    .colab-df-convert {\n",
              "      background-color: #E8F0FE;\n",
              "      border: none;\n",
              "      border-radius: 50%;\n",
              "      cursor: pointer;\n",
              "      display: none;\n",
              "      fill: #1967D2;\n",
              "      height: 32px;\n",
              "      padding: 0 0 0 0;\n",
              "      width: 32px;\n",
              "    }\n",
              "\n",
              "    .colab-df-convert:hover {\n",
              "      background-color: #E2EBFA;\n",
              "      box-shadow: 0px 1px 2px rgba(60, 64, 67, 0.3), 0px 1px 3px 1px rgba(60, 64, 67, 0.15);\n",
              "      fill: #174EA6;\n",
              "    }\n",
              "\n",
              "    [theme=dark] .colab-df-convert {\n",
              "      background-color: #3B4455;\n",
              "      fill: #D2E3FC;\n",
              "    }\n",
              "\n",
              "    [theme=dark] .colab-df-convert:hover {\n",
              "      background-color: #434B5C;\n",
              "      box-shadow: 0px 1px 3px 1px rgba(0, 0, 0, 0.15);\n",
              "      filter: drop-shadow(0px 1px 2px rgba(0, 0, 0, 0.3));\n",
              "      fill: #FFFFFF;\n",
              "    }\n",
              "  </style>\n",
              "\n",
              "      <script>\n",
              "        const buttonEl =\n",
              "          document.querySelector('#df-ede2c3e4-33ad-435f-b79f-0025c409f4d6 button.colab-df-convert');\n",
              "        buttonEl.style.display =\n",
              "          google.colab.kernel.accessAllowed ? 'block' : 'none';\n",
              "\n",
              "        async function convertToInteractive(key) {\n",
              "          const element = document.querySelector('#df-ede2c3e4-33ad-435f-b79f-0025c409f4d6');\n",
              "          const dataTable =\n",
              "            await google.colab.kernel.invokeFunction('convertToInteractive',\n",
              "                                                     [key], {});\n",
              "          if (!dataTable) return;\n",
              "\n",
              "          const docLinkHtml = 'Like what you see? Visit the ' +\n",
              "            '<a target=\"_blank\" href=https://colab.research.google.com/notebooks/data_table.ipynb>data table notebook</a>'\n",
              "            + ' to learn more about interactive tables.';\n",
              "          element.innerHTML = '';\n",
              "          dataTable['output_type'] = 'display_data';\n",
              "          await google.colab.output.renderOutput(dataTable, element);\n",
              "          const docLink = document.createElement('div');\n",
              "          docLink.innerHTML = docLinkHtml;\n",
              "          element.appendChild(docLink);\n",
              "        }\n",
              "      </script>\n",
              "    </div>\n",
              "  </div>\n",
              "  "
            ]
          },
          "metadata": {},
          "execution_count": 91
        }
      ]
    },
    {
      "cell_type": "code",
      "source": [
        "sub_df.to_csv('Submission2.csv')"
      ],
      "metadata": {
        "id": "MI3f6EfZSm8i"
      },
      "execution_count": null,
      "outputs": []
    },
    {
      "cell_type": "code",
      "source": [
        "df.columns"
      ],
      "metadata": {
        "colab": {
          "base_uri": "https://localhost:8080/"
        },
        "id": "5fnMVFD4UEAc",
        "outputId": "69da3adf-1702-4ae1-c73d-fc3c96de57a8"
      },
      "execution_count": null,
      "outputs": [
        {
          "output_type": "execute_result",
          "data": {
            "text/plain": [
              "Index(['PRODUCT_ID', 'TITLE', 'BULLET_POINTS', 'DESCRIPTION',\n",
              "       'PRODUCT_TYPE_ID', 'PRODUCT_LENGTH'],\n",
              "      dtype='object')"
            ]
          },
          "metadata": {},
          "execution_count": 93
        }
      ]
    },
    {
      "cell_type": "markdown",
      "source": [
        "# **Training a average dumb model**"
      ],
      "metadata": {
        "id": "ymGH6poIX6kb"
      }
    },
    {
      "cell_type": "code",
      "source": [
        "# df1 = df.copy()"
      ],
      "metadata": {
        "id": "B5FIez0nfhQw"
      },
      "execution_count": null,
      "outputs": []
    },
    {
      "cell_type": "code",
      "source": [
        "# df['BULLET_POINTS'] = df['BULLET_POINTS'].fillna('')\n",
        "# df['DESCRIPTION'] = df['DESCRIPTION'].fillna('')"
      ],
      "metadata": {
        "id": "IkN-b1BYX8pk"
      },
      "execution_count": null,
      "outputs": []
    },
    {
      "cell_type": "code",
      "source": [
        "# test_df.isna().sum()"
      ],
      "metadata": {
        "colab": {
          "base_uri": "https://localhost:8080/"
        },
        "id": "GZCT0-ebYNDM",
        "outputId": "4f8b7b95-095b-49b6-8758-e37c8671d52a"
      },
      "execution_count": null,
      "outputs": [
        {
          "output_type": "execute_result",
          "data": {
            "text/plain": [
              "PRODUCT_ID              0\n",
              "TITLE                   5\n",
              "BULLET_POINTS      275922\n",
              "DESCRIPTION        380001\n",
              "PRODUCT_TYPE_ID         0\n",
              "dtype: int64"
            ]
          },
          "metadata": {},
          "execution_count": 95
        }
      ]
    },
    {
      "cell_type": "code",
      "source": [
        "# test_df['TITLE'] = test_df['TITLE'].fillna('')\n",
        "# test_df['BULLET_POINTS'] = test_df['BULLET_POINTS'].fillna('')\n",
        "# test_df['DESCRIPTION'] = test_df['DESCRIPTION'].fillna('')"
      ],
      "metadata": {
        "id": "mmjlad6qYHY_"
      },
      "execution_count": null,
      "outputs": []
    },
    {
      "cell_type": "code",
      "source": [
        "# test_df.isna().sum()"
      ],
      "metadata": {
        "colab": {
          "base_uri": "https://localhost:8080/"
        },
        "id": "KpRHCI0dYftb",
        "outputId": "fcd0b0b5-ec54-4634-f988-0586bfe78679"
      },
      "execution_count": null,
      "outputs": [
        {
          "output_type": "execute_result",
          "data": {
            "text/plain": [
              "PRODUCT_ID         0\n",
              "TITLE              0\n",
              "BULLET_POINTS      0\n",
              "DESCRIPTION        0\n",
              "PRODUCT_TYPE_ID    0\n",
              "dtype: int64"
            ]
          },
          "metadata": {},
          "execution_count": 97
        }
      ]
    },
    {
      "cell_type": "code",
      "source": [
        "# df['Text'] = df['TITLE']+' '+ df['BULLET_POINTS']+ ' '+ df['DESCRIPTION']"
      ],
      "metadata": {
        "id": "7TEiW6TRX8nZ"
      },
      "execution_count": null,
      "outputs": []
    },
    {
      "cell_type": "code",
      "source": [
        "# test_df['Text'] = test_df['TITLE']+' '+ test_df['BULLET_POINTS']+ ' '+ test_df['DESCRIPTION']"
      ],
      "metadata": {
        "id": "jMJ1WSWkX8iU"
      },
      "execution_count": null,
      "outputs": []
    },
    {
      "cell_type": "code",
      "source": [
        "# df"
      ],
      "metadata": {
        "colab": {
          "base_uri": "https://localhost:8080/",
          "height": 676
        },
        "id": "po-goTHYZG9M",
        "outputId": "cb5a5615-0710-43e9-aa60-cd64717e238a"
      },
      "execution_count": null,
      "outputs": [
        {
          "output_type": "execute_result",
          "data": {
            "text/plain": [
              "         PRODUCT_ID                                              TITLE  \\\n",
              "0           1925202  ArtzFolio Tulip Flowers Blackout Curtain for D...   \n",
              "1           2673191  Marks & Spencer Girls' Pyjama Sets T86_2561C_N...   \n",
              "2           2765088  PRIKNIK Horn Red Electric Air Horn Compressor ...   \n",
              "3           1594019  ALISHAH Women's Cotton Ankle Length Leggings C...   \n",
              "4            283658  The United Empire Loyalists: A Chronicle of th...   \n",
              "...             ...                                                ...   \n",
              "2249693     2422167  Nike Women's As W Ny Df Swsh Hn Kh Bra (CZ7610...   \n",
              "2249694     2766635  (3PCS) Goose Game Cute Cartoon Enamel Pins, Fu...   \n",
              "2249695     1987786  Kangroo Sweep Movement Printed Wooden Wall Clo...   \n",
              "2249696     1165754  Electro Voice EKX-BRKT15 | Wall Mount Bracket ...   \n",
              "2249697     1072666  Skyjacker C7360SP Component Box For PN[C7360PK...   \n",
              "\n",
              "                                             BULLET_POINTS  \\\n",
              "0        [LUXURIOUS & APPEALING: Beautiful custom-made ...   \n",
              "1        [Harry Potter Hedwig Pyjamas (6-16 Yrs),100% c...   \n",
              "2        [Loud Dual Tone Trumpet Horn, Compatible With ...   \n",
              "3        [Made By 95%cotton and 5% Lycra which gives yo...   \n",
              "4                                                            \n",
              "...                                                    ...   \n",
              "2249693                               Material : Polyester   \n",
              "2249694  [❤ [Inspiration] Inspired by the Untitled Goos...   \n",
              "2249695  [Dial size: 12 inches in diameter,Big, clear r...   \n",
              "2249696                                                      \n",
              "2249697  [Component Box For PN[C7360PK],4 in. Lift,Incl...   \n",
              "\n",
              "                                               DESCRIPTION  PRODUCT_TYPE_ID  \\\n",
              "0                                                                      1650   \n",
              "1                                                                      2755   \n",
              "2        Specifications: Color: Red, Material: Aluminiu...             7537   \n",
              "3        AISHAH Women's Lycra Cotton Ankel Leggings. Br...             2996   \n",
              "4                                                                      6112   \n",
              "...                                                    ...              ...   \n",
              "2249693                                                                3009   \n",
              "2249694  <p><b>[Brand]: </b>XVIEONR</p> <p><br></p> <p>...             3413   \n",
              "2249695  Wall Clocks Are Very Attractive In Looks And E...             1574   \n",
              "2249696                                                                 592   \n",
              "2249697  Skyjacker C7360SP Component Box For PN[C7360PK...             7367   \n",
              "\n",
              "         PRODUCT_LENGTH                                               Text  \n",
              "0           2125.980000  ArtzFolio Tulip Flowers Blackout Curtain for D...  \n",
              "1            393.700000  Marks & Spencer Girls' Pyjama Sets T86_2561C_N...  \n",
              "2            748.031495  PRIKNIK Horn Red Electric Air Horn Compressor ...  \n",
              "3            787.401574  ALISHAH Women's Cotton Ankle Length Leggings C...  \n",
              "4            598.424000  The United Empire Loyalists: A Chronicle of th...  \n",
              "...                 ...                                                ...  \n",
              "2249693     1181.100000  Nike Women's As W Ny Df Swsh Hn Kh Bra (CZ7610...  \n",
              "2249694      125.984252  (3PCS) Goose Game Cute Cartoon Enamel Pins, Fu...  \n",
              "2249695     1200.000000  Kangroo Sweep Movement Printed Wooden Wall Clo...  \n",
              "2249696     2900.000000  Electro Voice EKX-BRKT15 | Wall Mount Bracket ...  \n",
              "2249697     2000.000000  Skyjacker C7360SP Component Box For PN[C7360PK...  \n",
              "\n",
              "[2249686 rows x 7 columns]"
            ],
            "text/html": [
              "\n",
              "  <div id=\"df-f031d57a-ea36-431d-aee0-9bbe06305b0b\">\n",
              "    <div class=\"colab-df-container\">\n",
              "      <div>\n",
              "<style scoped>\n",
              "    .dataframe tbody tr th:only-of-type {\n",
              "        vertical-align: middle;\n",
              "    }\n",
              "\n",
              "    .dataframe tbody tr th {\n",
              "        vertical-align: top;\n",
              "    }\n",
              "\n",
              "    .dataframe thead th {\n",
              "        text-align: right;\n",
              "    }\n",
              "</style>\n",
              "<table border=\"1\" class=\"dataframe\">\n",
              "  <thead>\n",
              "    <tr style=\"text-align: right;\">\n",
              "      <th></th>\n",
              "      <th>PRODUCT_ID</th>\n",
              "      <th>TITLE</th>\n",
              "      <th>BULLET_POINTS</th>\n",
              "      <th>DESCRIPTION</th>\n",
              "      <th>PRODUCT_TYPE_ID</th>\n",
              "      <th>PRODUCT_LENGTH</th>\n",
              "      <th>Text</th>\n",
              "    </tr>\n",
              "  </thead>\n",
              "  <tbody>\n",
              "    <tr>\n",
              "      <th>0</th>\n",
              "      <td>1925202</td>\n",
              "      <td>ArtzFolio Tulip Flowers Blackout Curtain for D...</td>\n",
              "      <td>[LUXURIOUS &amp; APPEALING: Beautiful custom-made ...</td>\n",
              "      <td></td>\n",
              "      <td>1650</td>\n",
              "      <td>2125.980000</td>\n",
              "      <td>ArtzFolio Tulip Flowers Blackout Curtain for D...</td>\n",
              "    </tr>\n",
              "    <tr>\n",
              "      <th>1</th>\n",
              "      <td>2673191</td>\n",
              "      <td>Marks &amp; Spencer Girls' Pyjama Sets T86_2561C_N...</td>\n",
              "      <td>[Harry Potter Hedwig Pyjamas (6-16 Yrs),100% c...</td>\n",
              "      <td></td>\n",
              "      <td>2755</td>\n",
              "      <td>393.700000</td>\n",
              "      <td>Marks &amp; Spencer Girls' Pyjama Sets T86_2561C_N...</td>\n",
              "    </tr>\n",
              "    <tr>\n",
              "      <th>2</th>\n",
              "      <td>2765088</td>\n",
              "      <td>PRIKNIK Horn Red Electric Air Horn Compressor ...</td>\n",
              "      <td>[Loud Dual Tone Trumpet Horn, Compatible With ...</td>\n",
              "      <td>Specifications: Color: Red, Material: Aluminiu...</td>\n",
              "      <td>7537</td>\n",
              "      <td>748.031495</td>\n",
              "      <td>PRIKNIK Horn Red Electric Air Horn Compressor ...</td>\n",
              "    </tr>\n",
              "    <tr>\n",
              "      <th>3</th>\n",
              "      <td>1594019</td>\n",
              "      <td>ALISHAH Women's Cotton Ankle Length Leggings C...</td>\n",
              "      <td>[Made By 95%cotton and 5% Lycra which gives yo...</td>\n",
              "      <td>AISHAH Women's Lycra Cotton Ankel Leggings. Br...</td>\n",
              "      <td>2996</td>\n",
              "      <td>787.401574</td>\n",
              "      <td>ALISHAH Women's Cotton Ankle Length Leggings C...</td>\n",
              "    </tr>\n",
              "    <tr>\n",
              "      <th>4</th>\n",
              "      <td>283658</td>\n",
              "      <td>The United Empire Loyalists: A Chronicle of th...</td>\n",
              "      <td></td>\n",
              "      <td></td>\n",
              "      <td>6112</td>\n",
              "      <td>598.424000</td>\n",
              "      <td>The United Empire Loyalists: A Chronicle of th...</td>\n",
              "    </tr>\n",
              "    <tr>\n",
              "      <th>...</th>\n",
              "      <td>...</td>\n",
              "      <td>...</td>\n",
              "      <td>...</td>\n",
              "      <td>...</td>\n",
              "      <td>...</td>\n",
              "      <td>...</td>\n",
              "      <td>...</td>\n",
              "    </tr>\n",
              "    <tr>\n",
              "      <th>2249693</th>\n",
              "      <td>2422167</td>\n",
              "      <td>Nike Women's As W Ny Df Swsh Hn Kh Bra (CZ7610...</td>\n",
              "      <td>Material : Polyester</td>\n",
              "      <td></td>\n",
              "      <td>3009</td>\n",
              "      <td>1181.100000</td>\n",
              "      <td>Nike Women's As W Ny Df Swsh Hn Kh Bra (CZ7610...</td>\n",
              "    </tr>\n",
              "    <tr>\n",
              "      <th>2249694</th>\n",
              "      <td>2766635</td>\n",
              "      <td>(3PCS) Goose Game Cute Cartoon Enamel Pins, Fu...</td>\n",
              "      <td>[❤ [Inspiration] Inspired by the Untitled Goos...</td>\n",
              "      <td>&lt;p&gt;&lt;b&gt;[Brand]: &lt;/b&gt;XVIEONR&lt;/p&gt; &lt;p&gt;&lt;br&gt;&lt;/p&gt; &lt;p&gt;...</td>\n",
              "      <td>3413</td>\n",
              "      <td>125.984252</td>\n",
              "      <td>(3PCS) Goose Game Cute Cartoon Enamel Pins, Fu...</td>\n",
              "    </tr>\n",
              "    <tr>\n",
              "      <th>2249695</th>\n",
              "      <td>1987786</td>\n",
              "      <td>Kangroo Sweep Movement Printed Wooden Wall Clo...</td>\n",
              "      <td>[Dial size: 12 inches in diameter,Big, clear r...</td>\n",
              "      <td>Wall Clocks Are Very Attractive In Looks And E...</td>\n",
              "      <td>1574</td>\n",
              "      <td>1200.000000</td>\n",
              "      <td>Kangroo Sweep Movement Printed Wooden Wall Clo...</td>\n",
              "    </tr>\n",
              "    <tr>\n",
              "      <th>2249696</th>\n",
              "      <td>1165754</td>\n",
              "      <td>Electro Voice EKX-BRKT15 | Wall Mount Bracket ...</td>\n",
              "      <td></td>\n",
              "      <td></td>\n",
              "      <td>592</td>\n",
              "      <td>2900.000000</td>\n",
              "      <td>Electro Voice EKX-BRKT15 | Wall Mount Bracket ...</td>\n",
              "    </tr>\n",
              "    <tr>\n",
              "      <th>2249697</th>\n",
              "      <td>1072666</td>\n",
              "      <td>Skyjacker C7360SP Component Box For PN[C7360PK...</td>\n",
              "      <td>[Component Box For PN[C7360PK],4 in. Lift,Incl...</td>\n",
              "      <td>Skyjacker C7360SP Component Box For PN[C7360PK...</td>\n",
              "      <td>7367</td>\n",
              "      <td>2000.000000</td>\n",
              "      <td>Skyjacker C7360SP Component Box For PN[C7360PK...</td>\n",
              "    </tr>\n",
              "  </tbody>\n",
              "</table>\n",
              "<p>2249686 rows × 7 columns</p>\n",
              "</div>\n",
              "      <button class=\"colab-df-convert\" onclick=\"convertToInteractive('df-f031d57a-ea36-431d-aee0-9bbe06305b0b')\"\n",
              "              title=\"Convert this dataframe to an interactive table.\"\n",
              "              style=\"display:none;\">\n",
              "        \n",
              "  <svg xmlns=\"http://www.w3.org/2000/svg\" height=\"24px\"viewBox=\"0 0 24 24\"\n",
              "       width=\"24px\">\n",
              "    <path d=\"M0 0h24v24H0V0z\" fill=\"none\"/>\n",
              "    <path d=\"M18.56 5.44l.94 2.06.94-2.06 2.06-.94-2.06-.94-.94-2.06-.94 2.06-2.06.94zm-11 1L8.5 8.5l.94-2.06 2.06-.94-2.06-.94L8.5 2.5l-.94 2.06-2.06.94zm10 10l.94 2.06.94-2.06 2.06-.94-2.06-.94-.94-2.06-.94 2.06-2.06.94z\"/><path d=\"M17.41 7.96l-1.37-1.37c-.4-.4-.92-.59-1.43-.59-.52 0-1.04.2-1.43.59L10.3 9.45l-7.72 7.72c-.78.78-.78 2.05 0 2.83L4 21.41c.39.39.9.59 1.41.59.51 0 1.02-.2 1.41-.59l7.78-7.78 2.81-2.81c.8-.78.8-2.07 0-2.86zM5.41 20L4 18.59l7.72-7.72 1.47 1.35L5.41 20z\"/>\n",
              "  </svg>\n",
              "      </button>\n",
              "      \n",
              "  <style>\n",
              "    .colab-df-container {\n",
              "      display:flex;\n",
              "      flex-wrap:wrap;\n",
              "      gap: 12px;\n",
              "    }\n",
              "\n",
              "    .colab-df-convert {\n",
              "      background-color: #E8F0FE;\n",
              "      border: none;\n",
              "      border-radius: 50%;\n",
              "      cursor: pointer;\n",
              "      display: none;\n",
              "      fill: #1967D2;\n",
              "      height: 32px;\n",
              "      padding: 0 0 0 0;\n",
              "      width: 32px;\n",
              "    }\n",
              "\n",
              "    .colab-df-convert:hover {\n",
              "      background-color: #E2EBFA;\n",
              "      box-shadow: 0px 1px 2px rgba(60, 64, 67, 0.3), 0px 1px 3px 1px rgba(60, 64, 67, 0.15);\n",
              "      fill: #174EA6;\n",
              "    }\n",
              "\n",
              "    [theme=dark] .colab-df-convert {\n",
              "      background-color: #3B4455;\n",
              "      fill: #D2E3FC;\n",
              "    }\n",
              "\n",
              "    [theme=dark] .colab-df-convert:hover {\n",
              "      background-color: #434B5C;\n",
              "      box-shadow: 0px 1px 3px 1px rgba(0, 0, 0, 0.15);\n",
              "      filter: drop-shadow(0px 1px 2px rgba(0, 0, 0, 0.3));\n",
              "      fill: #FFFFFF;\n",
              "    }\n",
              "  </style>\n",
              "\n",
              "      <script>\n",
              "        const buttonEl =\n",
              "          document.querySelector('#df-f031d57a-ea36-431d-aee0-9bbe06305b0b button.colab-df-convert');\n",
              "        buttonEl.style.display =\n",
              "          google.colab.kernel.accessAllowed ? 'block' : 'none';\n",
              "\n",
              "        async function convertToInteractive(key) {\n",
              "          const element = document.querySelector('#df-f031d57a-ea36-431d-aee0-9bbe06305b0b');\n",
              "          const dataTable =\n",
              "            await google.colab.kernel.invokeFunction('convertToInteractive',\n",
              "                                                     [key], {});\n",
              "          if (!dataTable) return;\n",
              "\n",
              "          const docLinkHtml = 'Like what you see? Visit the ' +\n",
              "            '<a target=\"_blank\" href=https://colab.research.google.com/notebooks/data_table.ipynb>data table notebook</a>'\n",
              "            + ' to learn more about interactive tables.';\n",
              "          element.innerHTML = '';\n",
              "          dataTable['output_type'] = 'display_data';\n",
              "          await google.colab.output.renderOutput(dataTable, element);\n",
              "          const docLink = document.createElement('div');\n",
              "          docLink.innerHTML = docLinkHtml;\n",
              "          element.appendChild(docLink);\n",
              "        }\n",
              "      </script>\n",
              "    </div>\n",
              "  </div>\n",
              "  "
            ]
          },
          "metadata": {},
          "execution_count": 100
        }
      ]
    },
    {
      "cell_type": "code",
      "source": [
        "# from sklearn.feature_extraction.text import CountVectorizer"
      ],
      "metadata": {
        "id": "fojnGQoJX8ge"
      },
      "execution_count": null,
      "outputs": []
    },
    {
      "cell_type": "code",
      "source": [
        "# vectorizer = CountVectorizer(stop_words='english', max_features=1000)\n",
        "# X = vectorizer.fit_transform(df['Text'])\n",
        "# y = df['PRODUCT_LENGTH']"
      ],
      "metadata": {
        "id": "7guEHORdX8B0"
      },
      "execution_count": null,
      "outputs": []
    },
    {
      "cell_type": "code",
      "source": [
        "# test_df"
      ],
      "metadata": {
        "colab": {
          "base_uri": "https://localhost:8080/",
          "height": 641
        },
        "id": "1dahIuaVZj0u",
        "outputId": "8b796d82-158d-4505-a0ed-5a1ae3efb351"
      },
      "execution_count": null,
      "outputs": [
        {
          "output_type": "execute_result",
          "data": {
            "text/plain": [
              "        PRODUCT_ID                                              TITLE  \\\n",
              "0           604373  Manuel d'Héliogravure Et de Photogravure En Re...   \n",
              "1          1729783  DCGARING Microfiber Throw Blanket Warm Fuzzy P...   \n",
              "2          1871949  I-Match Auto Parts Front License Plate Bracket...   \n",
              "3          1107571  PinMart Gold Plated Excellence in Service 1 Ye...   \n",
              "4           624253  Visual Mathematics, Illustrated by the TI-92 a...   \n",
              "...            ...                                                ...   \n",
              "734731      921419  Casual Canine Basic Hoodie for Dogs, 16\" Mediu...   \n",
              "734732     2456362  Dive Log Book: Scuba Diving Logbook for Beginn...   \n",
              "734733      841529  Axor 39135001 Citterio Widespread Faucet with ...   \n",
              "734734     1190194  Caroline's Treasures BB1801DS812 Halloween Bas...   \n",
              "734735     1040810  Amsahr 18C1623 Lexmark X3530 Remanufactured Re...   \n",
              "\n",
              "                                            BULLET_POINTS  \\\n",
              "0                                                           \n",
              "1       [QUALITY GUARANTEED: Luxury cozy plush polyest...   \n",
              "2       [Front License Plate Bracket Made Of Plastic,D...   \n",
              "3       [Available as a single item or bulk packed. Se...   \n",
              "4                                                           \n",
              "...                                                   ...   \n",
              "734731  [Brightly colored pet sweatshirts with authent...   \n",
              "734732                                                      \n",
              "734733  [8-Inch centers,1/2-Inch IPS inlets,9-Inch spo...   \n",
              "734734  [Indoor or outdoor aluminum artwork prints,8 i...   \n",
              "734735  [Engineered and Manufactured Under European St...   \n",
              "\n",
              "                                              DESCRIPTION  PRODUCT_TYPE_ID  \\\n",
              "0                                                                     6142   \n",
              "1       <b>DCGARING Throw Blanket</b><br><br> <b>Size ...             1622   \n",
              "2       Replacement for The Following Vehicles:2020 LE...             7540   \n",
              "3       Our Excellence in Service Lapel Pins feature a...            12442   \n",
              "4                                                                     6318   \n",
              "...                                                   ...              ...   \n",
              "734731  ZA6015 16 43 Size-See Chart Below: Medium: 16\"...             7073   \n",
              "734732                                                                   1   \n",
              "734733  39135001 Features: -ADA compliant. -Includes p...            10645   \n",
              "734734  Features. Great for inside or outside these Al...            12680   \n",
              "734735  Our Remanufactured Replacement Lexmark Ink Car...                0   \n",
              "\n",
              "                                                     Text  \n",
              "0       Manuel d'Héliogravure Et de Photogravure En Re...  \n",
              "1       DCGARING Microfiber Throw Blanket Warm Fuzzy P...  \n",
              "2       I-Match Auto Parts Front License Plate Bracket...  \n",
              "3       PinMart Gold Plated Excellence in Service 1 Ye...  \n",
              "4       Visual Mathematics, Illustrated by the TI-92 a...  \n",
              "...                                                   ...  \n",
              "734731  Casual Canine Basic Hoodie for Dogs, 16\" Mediu...  \n",
              "734732  Dive Log Book: Scuba Diving Logbook for Beginn...  \n",
              "734733  Axor 39135001 Citterio Widespread Faucet with ...  \n",
              "734734  Caroline's Treasures BB1801DS812 Halloween Bas...  \n",
              "734735  Amsahr 18C1623 Lexmark X3530 Remanufactured Re...  \n",
              "\n",
              "[734736 rows x 6 columns]"
            ],
            "text/html": [
              "\n",
              "  <div id=\"df-4a37ca8c-2a31-4735-b48b-35cc38dbcd5f\">\n",
              "    <div class=\"colab-df-container\">\n",
              "      <div>\n",
              "<style scoped>\n",
              "    .dataframe tbody tr th:only-of-type {\n",
              "        vertical-align: middle;\n",
              "    }\n",
              "\n",
              "    .dataframe tbody tr th {\n",
              "        vertical-align: top;\n",
              "    }\n",
              "\n",
              "    .dataframe thead th {\n",
              "        text-align: right;\n",
              "    }\n",
              "</style>\n",
              "<table border=\"1\" class=\"dataframe\">\n",
              "  <thead>\n",
              "    <tr style=\"text-align: right;\">\n",
              "      <th></th>\n",
              "      <th>PRODUCT_ID</th>\n",
              "      <th>TITLE</th>\n",
              "      <th>BULLET_POINTS</th>\n",
              "      <th>DESCRIPTION</th>\n",
              "      <th>PRODUCT_TYPE_ID</th>\n",
              "      <th>Text</th>\n",
              "    </tr>\n",
              "  </thead>\n",
              "  <tbody>\n",
              "    <tr>\n",
              "      <th>0</th>\n",
              "      <td>604373</td>\n",
              "      <td>Manuel d'Héliogravure Et de Photogravure En Re...</td>\n",
              "      <td></td>\n",
              "      <td></td>\n",
              "      <td>6142</td>\n",
              "      <td>Manuel d'Héliogravure Et de Photogravure En Re...</td>\n",
              "    </tr>\n",
              "    <tr>\n",
              "      <th>1</th>\n",
              "      <td>1729783</td>\n",
              "      <td>DCGARING Microfiber Throw Blanket Warm Fuzzy P...</td>\n",
              "      <td>[QUALITY GUARANTEED: Luxury cozy plush polyest...</td>\n",
              "      <td>&lt;b&gt;DCGARING Throw Blanket&lt;/b&gt;&lt;br&gt;&lt;br&gt; &lt;b&gt;Size ...</td>\n",
              "      <td>1622</td>\n",
              "      <td>DCGARING Microfiber Throw Blanket Warm Fuzzy P...</td>\n",
              "    </tr>\n",
              "    <tr>\n",
              "      <th>2</th>\n",
              "      <td>1871949</td>\n",
              "      <td>I-Match Auto Parts Front License Plate Bracket...</td>\n",
              "      <td>[Front License Plate Bracket Made Of Plastic,D...</td>\n",
              "      <td>Replacement for The Following Vehicles:2020 LE...</td>\n",
              "      <td>7540</td>\n",
              "      <td>I-Match Auto Parts Front License Plate Bracket...</td>\n",
              "    </tr>\n",
              "    <tr>\n",
              "      <th>3</th>\n",
              "      <td>1107571</td>\n",
              "      <td>PinMart Gold Plated Excellence in Service 1 Ye...</td>\n",
              "      <td>[Available as a single item or bulk packed. Se...</td>\n",
              "      <td>Our Excellence in Service Lapel Pins feature a...</td>\n",
              "      <td>12442</td>\n",
              "      <td>PinMart Gold Plated Excellence in Service 1 Ye...</td>\n",
              "    </tr>\n",
              "    <tr>\n",
              "      <th>4</th>\n",
              "      <td>624253</td>\n",
              "      <td>Visual Mathematics, Illustrated by the TI-92 a...</td>\n",
              "      <td></td>\n",
              "      <td></td>\n",
              "      <td>6318</td>\n",
              "      <td>Visual Mathematics, Illustrated by the TI-92 a...</td>\n",
              "    </tr>\n",
              "    <tr>\n",
              "      <th>...</th>\n",
              "      <td>...</td>\n",
              "      <td>...</td>\n",
              "      <td>...</td>\n",
              "      <td>...</td>\n",
              "      <td>...</td>\n",
              "      <td>...</td>\n",
              "    </tr>\n",
              "    <tr>\n",
              "      <th>734731</th>\n",
              "      <td>921419</td>\n",
              "      <td>Casual Canine Basic Hoodie for Dogs, 16\" Mediu...</td>\n",
              "      <td>[Brightly colored pet sweatshirts with authent...</td>\n",
              "      <td>ZA6015 16 43 Size-See Chart Below: Medium: 16\"...</td>\n",
              "      <td>7073</td>\n",
              "      <td>Casual Canine Basic Hoodie for Dogs, 16\" Mediu...</td>\n",
              "    </tr>\n",
              "    <tr>\n",
              "      <th>734732</th>\n",
              "      <td>2456362</td>\n",
              "      <td>Dive Log Book: Scuba Diving Logbook for Beginn...</td>\n",
              "      <td></td>\n",
              "      <td></td>\n",
              "      <td>1</td>\n",
              "      <td>Dive Log Book: Scuba Diving Logbook for Beginn...</td>\n",
              "    </tr>\n",
              "    <tr>\n",
              "      <th>734733</th>\n",
              "      <td>841529</td>\n",
              "      <td>Axor 39135001 Citterio Widespread Faucet with ...</td>\n",
              "      <td>[8-Inch centers,1/2-Inch IPS inlets,9-Inch spo...</td>\n",
              "      <td>39135001 Features: -ADA compliant. -Includes p...</td>\n",
              "      <td>10645</td>\n",
              "      <td>Axor 39135001 Citterio Widespread Faucet with ...</td>\n",
              "    </tr>\n",
              "    <tr>\n",
              "      <th>734734</th>\n",
              "      <td>1190194</td>\n",
              "      <td>Caroline's Treasures BB1801DS812 Halloween Bas...</td>\n",
              "      <td>[Indoor or outdoor aluminum artwork prints,8 i...</td>\n",
              "      <td>Features. Great for inside or outside these Al...</td>\n",
              "      <td>12680</td>\n",
              "      <td>Caroline's Treasures BB1801DS812 Halloween Bas...</td>\n",
              "    </tr>\n",
              "    <tr>\n",
              "      <th>734735</th>\n",
              "      <td>1040810</td>\n",
              "      <td>Amsahr 18C1623 Lexmark X3530 Remanufactured Re...</td>\n",
              "      <td>[Engineered and Manufactured Under European St...</td>\n",
              "      <td>Our Remanufactured Replacement Lexmark Ink Car...</td>\n",
              "      <td>0</td>\n",
              "      <td>Amsahr 18C1623 Lexmark X3530 Remanufactured Re...</td>\n",
              "    </tr>\n",
              "  </tbody>\n",
              "</table>\n",
              "<p>734736 rows × 6 columns</p>\n",
              "</div>\n",
              "      <button class=\"colab-df-convert\" onclick=\"convertToInteractive('df-4a37ca8c-2a31-4735-b48b-35cc38dbcd5f')\"\n",
              "              title=\"Convert this dataframe to an interactive table.\"\n",
              "              style=\"display:none;\">\n",
              "        \n",
              "  <svg xmlns=\"http://www.w3.org/2000/svg\" height=\"24px\"viewBox=\"0 0 24 24\"\n",
              "       width=\"24px\">\n",
              "    <path d=\"M0 0h24v24H0V0z\" fill=\"none\"/>\n",
              "    <path d=\"M18.56 5.44l.94 2.06.94-2.06 2.06-.94-2.06-.94-.94-2.06-.94 2.06-2.06.94zm-11 1L8.5 8.5l.94-2.06 2.06-.94-2.06-.94L8.5 2.5l-.94 2.06-2.06.94zm10 10l.94 2.06.94-2.06 2.06-.94-2.06-.94-.94-2.06-.94 2.06-2.06.94z\"/><path d=\"M17.41 7.96l-1.37-1.37c-.4-.4-.92-.59-1.43-.59-.52 0-1.04.2-1.43.59L10.3 9.45l-7.72 7.72c-.78.78-.78 2.05 0 2.83L4 21.41c.39.39.9.59 1.41.59.51 0 1.02-.2 1.41-.59l7.78-7.78 2.81-2.81c.8-.78.8-2.07 0-2.86zM5.41 20L4 18.59l7.72-7.72 1.47 1.35L5.41 20z\"/>\n",
              "  </svg>\n",
              "      </button>\n",
              "      \n",
              "  <style>\n",
              "    .colab-df-container {\n",
              "      display:flex;\n",
              "      flex-wrap:wrap;\n",
              "      gap: 12px;\n",
              "    }\n",
              "\n",
              "    .colab-df-convert {\n",
              "      background-color: #E8F0FE;\n",
              "      border: none;\n",
              "      border-radius: 50%;\n",
              "      cursor: pointer;\n",
              "      display: none;\n",
              "      fill: #1967D2;\n",
              "      height: 32px;\n",
              "      padding: 0 0 0 0;\n",
              "      width: 32px;\n",
              "    }\n",
              "\n",
              "    .colab-df-convert:hover {\n",
              "      background-color: #E2EBFA;\n",
              "      box-shadow: 0px 1px 2px rgba(60, 64, 67, 0.3), 0px 1px 3px 1px rgba(60, 64, 67, 0.15);\n",
              "      fill: #174EA6;\n",
              "    }\n",
              "\n",
              "    [theme=dark] .colab-df-convert {\n",
              "      background-color: #3B4455;\n",
              "      fill: #D2E3FC;\n",
              "    }\n",
              "\n",
              "    [theme=dark] .colab-df-convert:hover {\n",
              "      background-color: #434B5C;\n",
              "      box-shadow: 0px 1px 3px 1px rgba(0, 0, 0, 0.15);\n",
              "      filter: drop-shadow(0px 1px 2px rgba(0, 0, 0, 0.3));\n",
              "      fill: #FFFFFF;\n",
              "    }\n",
              "  </style>\n",
              "\n",
              "      <script>\n",
              "        const buttonEl =\n",
              "          document.querySelector('#df-4a37ca8c-2a31-4735-b48b-35cc38dbcd5f button.colab-df-convert');\n",
              "        buttonEl.style.display =\n",
              "          google.colab.kernel.accessAllowed ? 'block' : 'none';\n",
              "\n",
              "        async function convertToInteractive(key) {\n",
              "          const element = document.querySelector('#df-4a37ca8c-2a31-4735-b48b-35cc38dbcd5f');\n",
              "          const dataTable =\n",
              "            await google.colab.kernel.invokeFunction('convertToInteractive',\n",
              "                                                     [key], {});\n",
              "          if (!dataTable) return;\n",
              "\n",
              "          const docLinkHtml = 'Like what you see? Visit the ' +\n",
              "            '<a target=\"_blank\" href=https://colab.research.google.com/notebooks/data_table.ipynb>data table notebook</a>'\n",
              "            + ' to learn more about interactive tables.';\n",
              "          element.innerHTML = '';\n",
              "          dataTable['output_type'] = 'display_data';\n",
              "          await google.colab.output.renderOutput(dataTable, element);\n",
              "          const docLink = document.createElement('div');\n",
              "          docLink.innerHTML = docLinkHtml;\n",
              "          element.appendChild(docLink);\n",
              "        }\n",
              "      </script>\n",
              "    </div>\n",
              "  </div>\n",
              "  "
            ]
          },
          "metadata": {},
          "execution_count": 103
        }
      ]
    },
    {
      "cell_type": "code",
      "source": [
        "# X_test = vectorizer.transform(test_df['Text'])"
      ],
      "metadata": {
        "id": "ULXpjbdZZW02"
      },
      "execution_count": null,
      "outputs": []
    },
    {
      "cell_type": "code",
      "source": [
        "# from sklearn.linear_model import LinearRegression"
      ],
      "metadata": {
        "id": "enkWY-5tZl9i"
      },
      "execution_count": null,
      "outputs": []
    },
    {
      "cell_type": "code",
      "source": [
        "# model = LinearRegression()"
      ],
      "metadata": {
        "id": "GDmTfvZRZr5t"
      },
      "execution_count": null,
      "outputs": []
    },
    {
      "cell_type": "code",
      "source": [
        "# from sklearn.model_selection import train_test_split"
      ],
      "metadata": {
        "id": "BDirQFQ7Z5ck"
      },
      "execution_count": null,
      "outputs": []
    },
    {
      "cell_type": "code",
      "source": [
        "# X_train,X_val, y_train,y_val = train_test_split(X,y,test_size = 0.2, random_state = 42)"
      ],
      "metadata": {
        "id": "jXYbPcLXZy93"
      },
      "execution_count": null,
      "outputs": []
    },
    {
      "cell_type": "code",
      "source": [
        "# model.fit(X_train, y_train)"
      ],
      "metadata": {
        "colab": {
          "base_uri": "https://localhost:8080/",
          "height": 75
        },
        "id": "RHPAQflmaErc",
        "outputId": "65c41acb-f0ee-4868-c8da-52bdf3db9ccc"
      },
      "execution_count": null,
      "outputs": [
        {
          "output_type": "execute_result",
          "data": {
            "text/plain": [
              "LinearRegression()"
            ],
            "text/html": [
              "<style>#sk-container-id-1 {color: black;background-color: white;}#sk-container-id-1 pre{padding: 0;}#sk-container-id-1 div.sk-toggleable {background-color: white;}#sk-container-id-1 label.sk-toggleable__label {cursor: pointer;display: block;width: 100%;margin-bottom: 0;padding: 0.3em;box-sizing: border-box;text-align: center;}#sk-container-id-1 label.sk-toggleable__label-arrow:before {content: \"▸\";float: left;margin-right: 0.25em;color: #696969;}#sk-container-id-1 label.sk-toggleable__label-arrow:hover:before {color: black;}#sk-container-id-1 div.sk-estimator:hover label.sk-toggleable__label-arrow:before {color: black;}#sk-container-id-1 div.sk-toggleable__content {max-height: 0;max-width: 0;overflow: hidden;text-align: left;background-color: #f0f8ff;}#sk-container-id-1 div.sk-toggleable__content pre {margin: 0.2em;color: black;border-radius: 0.25em;background-color: #f0f8ff;}#sk-container-id-1 input.sk-toggleable__control:checked~div.sk-toggleable__content {max-height: 200px;max-width: 100%;overflow: auto;}#sk-container-id-1 input.sk-toggleable__control:checked~label.sk-toggleable__label-arrow:before {content: \"▾\";}#sk-container-id-1 div.sk-estimator input.sk-toggleable__control:checked~label.sk-toggleable__label {background-color: #d4ebff;}#sk-container-id-1 div.sk-label input.sk-toggleable__control:checked~label.sk-toggleable__label {background-color: #d4ebff;}#sk-container-id-1 input.sk-hidden--visually {border: 0;clip: rect(1px 1px 1px 1px);clip: rect(1px, 1px, 1px, 1px);height: 1px;margin: -1px;overflow: hidden;padding: 0;position: absolute;width: 1px;}#sk-container-id-1 div.sk-estimator {font-family: monospace;background-color: #f0f8ff;border: 1px dotted black;border-radius: 0.25em;box-sizing: border-box;margin-bottom: 0.5em;}#sk-container-id-1 div.sk-estimator:hover {background-color: #d4ebff;}#sk-container-id-1 div.sk-parallel-item::after {content: \"\";width: 100%;border-bottom: 1px solid gray;flex-grow: 1;}#sk-container-id-1 div.sk-label:hover label.sk-toggleable__label {background-color: #d4ebff;}#sk-container-id-1 div.sk-serial::before {content: \"\";position: absolute;border-left: 1px solid gray;box-sizing: border-box;top: 0;bottom: 0;left: 50%;z-index: 0;}#sk-container-id-1 div.sk-serial {display: flex;flex-direction: column;align-items: center;background-color: white;padding-right: 0.2em;padding-left: 0.2em;position: relative;}#sk-container-id-1 div.sk-item {position: relative;z-index: 1;}#sk-container-id-1 div.sk-parallel {display: flex;align-items: stretch;justify-content: center;background-color: white;position: relative;}#sk-container-id-1 div.sk-item::before, #sk-container-id-1 div.sk-parallel-item::before {content: \"\";position: absolute;border-left: 1px solid gray;box-sizing: border-box;top: 0;bottom: 0;left: 50%;z-index: -1;}#sk-container-id-1 div.sk-parallel-item {display: flex;flex-direction: column;z-index: 1;position: relative;background-color: white;}#sk-container-id-1 div.sk-parallel-item:first-child::after {align-self: flex-end;width: 50%;}#sk-container-id-1 div.sk-parallel-item:last-child::after {align-self: flex-start;width: 50%;}#sk-container-id-1 div.sk-parallel-item:only-child::after {width: 0;}#sk-container-id-1 div.sk-dashed-wrapped {border: 1px dashed gray;margin: 0 0.4em 0.5em 0.4em;box-sizing: border-box;padding-bottom: 0.4em;background-color: white;}#sk-container-id-1 div.sk-label label {font-family: monospace;font-weight: bold;display: inline-block;line-height: 1.2em;}#sk-container-id-1 div.sk-label-container {text-align: center;}#sk-container-id-1 div.sk-container {/* jupyter's `normalize.less` sets `[hidden] { display: none; }` but bootstrap.min.css set `[hidden] { display: none !important; }` so we also need the `!important` here to be able to override the default hidden behavior on the sphinx rendered scikit-learn.org. See: https://github.com/scikit-learn/scikit-learn/issues/21755 */display: inline-block !important;position: relative;}#sk-container-id-1 div.sk-text-repr-fallback {display: none;}</style><div id=\"sk-container-id-1\" class=\"sk-top-container\"><div class=\"sk-text-repr-fallback\"><pre>LinearRegression()</pre><b>In a Jupyter environment, please rerun this cell to show the HTML representation or trust the notebook. <br />On GitHub, the HTML representation is unable to render, please try loading this page with nbviewer.org.</b></div><div class=\"sk-container\" hidden><div class=\"sk-item\"><div class=\"sk-estimator sk-toggleable\"><input class=\"sk-toggleable__control sk-hidden--visually\" id=\"sk-estimator-id-1\" type=\"checkbox\" checked><label for=\"sk-estimator-id-1\" class=\"sk-toggleable__label sk-toggleable__label-arrow\">LinearRegression</label><div class=\"sk-toggleable__content\"><pre>LinearRegression()</pre></div></div></div></div></div>"
            ]
          },
          "metadata": {},
          "execution_count": 112
        }
      ]
    },
    {
      "cell_type": "code",
      "source": [
        "# y_pred = model.predict(X_val)"
      ],
      "metadata": {
        "id": "YHYZHiLOaK8y"
      },
      "execution_count": null,
      "outputs": []
    },
    {
      "cell_type": "code",
      "source": [
        "# from sklearn.metrics import mean_squared_error"
      ],
      "metadata": {
        "id": "CAaoOFBMaUCV"
      },
      "execution_count": null,
      "outputs": []
    },
    {
      "cell_type": "code",
      "source": [
        "# print(mean_squared_error(y_val,y_pred))"
      ],
      "metadata": {
        "colab": {
          "base_uri": "https://localhost:8080/"
        },
        "id": "92J92HhKakf2",
        "outputId": "dc5a8748-8300-492f-f160-379c72d852cb"
      },
      "execution_count": null,
      "outputs": [
        {
          "output_type": "stream",
          "name": "stdout",
          "text": [
            "21287887892.03444\n"
          ]
        }
      ]
    },
    {
      "cell_type": "code",
      "source": [
        "# print(X_test)"
      ],
      "metadata": {
        "id": "jIAaLnkMcX7o"
      },
      "execution_count": null,
      "outputs": []
    },
    {
      "cell_type": "code",
      "source": [
        "# x_pred = model.predict(X_test)"
      ],
      "metadata": {
        "id": "zQUz6HEab_WX"
      },
      "execution_count": null,
      "outputs": []
    },
    {
      "cell_type": "code",
      "source": [
        "# for i in range(len(x_pred)):\n",
        "#   if x_pred[i] <0:\n",
        "#     x_pred[i] = x_pred[i]*(-1)"
      ],
      "metadata": {
        "id": "DXL6EFLUcf6T"
      },
      "execution_count": null,
      "outputs": []
    },
    {
      "cell_type": "code",
      "source": [
        "# sub_df['PRODUCT_LENGTH'] = x_pred"
      ],
      "metadata": {
        "id": "lnDYDg9Ocymf"
      },
      "execution_count": null,
      "outputs": []
    },
    {
      "cell_type": "code",
      "source": [
        "# sub_df.to_csv('Submission3.csv')"
      ],
      "metadata": {
        "id": "DTjztuhcdHsd"
      },
      "execution_count": null,
      "outputs": []
    },
    {
      "cell_type": "code",
      "source": [
        "import pandas as pd\n",
        "import numpy as np"
      ],
      "metadata": {
        "id": "_SnVvaGYuRKm"
      },
      "execution_count": null,
      "outputs": []
    },
    {
      "cell_type": "code",
      "source": [
        "from sklearn.model_selection import train_test_split\n",
        "from sklearn.preprocessing import StandardScaler\n",
        "from sklearn.linear_model import LinearRegression, Ridge\n",
        "from sklearn.ensemble import RandomForestClassifier, GradientBoostingRegressor\n",
        "from xgboost import XGBRegressor\n",
        "# from sklearn.ensemble import AdaBoostClassifier\n",
        "# from sklearn.neighbors import KNeighborsClassifier\n",
        "from sklearn.svm import SVR\n",
        "# from sklearn.ensemble import BaggingClassifier\n",
        "# from sklearn.ensemble import ExtraTreesClassifier\n",
        "from sklearn.metrics import mean_absolute_percentage_error"
      ],
      "metadata": {
        "id": "7h9DSgoHehp8"
      },
      "execution_count": null,
      "outputs": []
    },
    {
      "cell_type": "code",
      "source": [
        "from sklearn.feature_extraction.text import TfidfVectorizer"
      ],
      "metadata": {
        "id": "sJgnkJ0-hf_P"
      },
      "execution_count": null,
      "outputs": []
    },
    {
      "cell_type": "code",
      "source": [
        "def feature(df,test_df):\n",
        "    # Load the dataset into a Pandas dataframe\n",
        "    # df = pd.read_csv(\"your_dataset.csv\")\n",
        "\n",
        "    # Drop rows with missing values in the TITLE column\n",
        "    # df = df.dropna(subset=[\"TITLE\"])\n",
        "    # test_df = test_df['TITLE'].fillna('Not available')\n",
        "    # Select relevant features\n",
        "    X = df[[\"TITLE\", \"BULLET_POINTS\", \"DESCRIPTION\", \"PRODUCT_TYPE_ID\"]]\n",
        "    y = df[\"PRODUCT_LENGTH\"]\n",
        "    X_test = test_df[[\"TITLE\", \"BULLET_POINTS\", \"DESCRIPTION\", \"PRODUCT_TYPE_ID\"]]\n",
        "\n",
        "    # Split the data into training and test sets\n",
        "    X_train, X_val, y_train, y_val = train_test_split(X, y, test_size=0.2, random_state=42)\n",
        "\n",
        "    # Vectorize the text data using TF-IDF\n",
        "    vectorizer = TfidfVectorizer(stop_words=\"english\")\n",
        "    X_train_title = vectorizer.fit_transform(X_train[\"TITLE\"])\n",
        "    X_train_bullet = vectorizer.fit_transform(X_train[\"BULLET_POINTS\"])\n",
        "    X_train_desc = vectorizer.fit_transform(X_train[\"DESCRIPTION\"])\n",
        "    X_val_title = vectorizer.transform(X_val[\"TITLE\"])\n",
        "    X_val_bullet = vectorizer.transform(X_val[\"BULLET_POINTS\"])\n",
        "    X_val_desc = vectorizer.transform(X_val[\"DESCRIPTION\"])\n",
        "    X_test_title = vectorizer.transform(X_test[\"TITLE\"])\n",
        "    X_test_bullet = vectorizer.transform(X_test[\"BULLET_POINTS\"])\n",
        "    X_test_desc = vectorizer.transform(X_test[\"DESCRIPTION\"])\n",
        "    X_train = np.hstack([X_train_title.toarray(), X_train_bullet.toarray(), X_train_desc.toarray(), X_train[[\"PRODUCT_TYPE_ID\"]]])\n",
        "    X_val = np.hstack([X_val_title.toarray(), X_val_bullet.toarray(), X_val_desc.toarray(), X_val[[\"PRODUCT_TYPE_ID\"]]])\n",
        "    X_test = np.hstack([X_test_title.toarray(), X_test_bullet.toarray(), X_test_desc.toarray(), X_test[[\"PRODUCT_TYPE_ID\"]]])\n",
        "\n",
        "    # Standardize the numerical data\n",
        "    scaler = StandardScaler()\n",
        "    X_train_num = scaler.fit_transform(X_train[:, -1:])\n",
        "    X_val_num = scaler.transform(X_val[:,-1:])\n",
        "    X_test_num = scaler.transform(X_test[:, -1:])\n",
        "    X_train = np.hstack([X_train[:, :-1], X_train_num])\n",
        "    X_val = np.hstack([X_val[:, :-1], X_val_num])\n",
        "    X_test = np.hstack([X_test[:, :-1], X_test_num])\n",
        "\n",
        "    return X_train, X_val, X_test, y_train, y_val"
      ],
      "metadata": {
        "id": "kazbnKe1eO4Z"
      },
      "execution_count": null,
      "outputs": []
    },
    {
      "cell_type": "code",
      "source": [
        "import pandas as pd"
      ],
      "metadata": {
        "id": "ubpGK6q39u86"
      },
      "execution_count": null,
      "outputs": []
    },
    {
      "cell_type": "code",
      "source": [
        "%%time\n",
        "df1 = pd.read_csv('/content/drive/MyDrive/Colab Notebooks/train.csv')"
      ],
      "metadata": {
        "colab": {
          "base_uri": "https://localhost:8080/"
        },
        "id": "W0m8g8oxfZ7U",
        "outputId": "66f92820-ca5b-4f73-9a08-97b199989603"
      },
      "execution_count": null,
      "outputs": [
        {
          "output_type": "stream",
          "name": "stdout",
          "text": [
            "CPU times: user 20.6 s, sys: 3.58 s, total: 24.2 s\n",
            "Wall time: 34.9 s\n"
          ]
        }
      ]
    },
    {
      "cell_type": "code",
      "source": [
        "df1['PRODUCT_TYPE_ID'].max(), df1['PRODUCT_TYPE_ID'].min()"
      ],
      "metadata": {
        "colab": {
          "base_uri": "https://localhost:8080/"
        },
        "id": "co6u6bm09seK",
        "outputId": "879aba95-b973-48f8-b6f0-8525441eb029"
      },
      "execution_count": null,
      "outputs": [
        {
          "output_type": "execute_result",
          "data": {
            "text/plain": [
              "(13420, 0)"
            ]
          },
          "metadata": {},
          "execution_count": 10
        }
      ]
    },
    {
      "cell_type": "code",
      "source": [
        "test_df = pd.read_csv('/content/drive/MyDrive/Colab Notebooks/test.csv')"
      ],
      "metadata": {
        "id": "MmhUB3EhgZVF"
      },
      "execution_count": null,
      "outputs": []
    },
    {
      "cell_type": "code",
      "source": [
        "df1['PRODUCT_TYPE_ID'].max(), df1['PRODUCT_TYPE_ID'].min()"
      ],
      "metadata": {
        "colab": {
          "base_uri": "https://localhost:8080/"
        },
        "id": "Qjoe06-_BHho",
        "outputId": "700e26a3-d3dc-461e-ebb9-ce33513f0e49"
      },
      "execution_count": null,
      "outputs": [
        {
          "output_type": "execute_result",
          "data": {
            "text/plain": [
              "(13420, 0)"
            ]
          },
          "metadata": {},
          "execution_count": 12
        }
      ]
    },
    {
      "cell_type": "code",
      "source": [
        "df1.dropna(subset = ['TITLE'], inplace = True)\n",
        "df1['BULLET_POINTS'] = df1['BULLET_POINTS'].fillna('')\n",
        "df1['DESCRIPTION'] = df1['DESCRIPTION'].fillna('')"
      ],
      "metadata": {
        "id": "g0TL-y5bm7E7"
      },
      "execution_count": null,
      "outputs": []
    },
    {
      "cell_type": "code",
      "source": [
        "test_df['TITLE'] = test_df['TITLE'].fillna('')\n",
        "test_df['BULLET_POINTS'] = test_df['BULLET_POINTS'].fillna('')\n",
        "test_df['DESCRIPTION'] = test_df['DESCRIPTION'].fillna('')"
      ],
      "metadata": {
        "id": "9wXwUsuNm6yb"
      },
      "execution_count": null,
      "outputs": []
    },
    {
      "cell_type": "code",
      "source": [
        "X_train, X_val, X_test, y_train, y_val = feature(df1, test_df)"
      ],
      "metadata": {
        "id": "xVXVK5MLitzH"
      },
      "execution_count": null,
      "outputs": []
    },
    {
      "cell_type": "code",
      "source": [
        "lr = LinearRegression()\n",
        "ridge = Ridge(alpha = 1.0)\n",
        "rfc = RandomForestClassifier(n_estimators=200, random_state=2)\n",
        "gbr = GradientBoostingRegressor(n_estimators=200, random_state=42)\n",
        "# bc = BaggingClassifier(n_estimators=50, random_state=2)\n",
        "xgb = XGBRegressor(n_estimators=100,random_state=42)\n",
        "# abc = AdaBoostClassifier(n_estimators=150, random_state=2)\n",
        "svr = SVR(kernel=\"linear\")"
      ],
      "metadata": {
        "id": "O4jtsnlaoVwi"
      },
      "execution_count": null,
      "outputs": []
    },
    {
      "cell_type": "code",
      "source": [
        "clfs = {\n",
        "    'svr': svr,\n",
        "    'lr' : lr,\n",
        "    'rr' : ridge,\n",
        "    'rfc': rfc,\n",
        "    'gbr': gbr,\n",
        "    'xgb': xgb\n",
        "}"
      ],
      "metadata": {
        "id": "tEax_3zMlqqY"
      },
      "execution_count": null,
      "outputs": []
    },
    {
      "cell_type": "code",
      "source": [
        "def train_classifier(clf,X_train,y_train,X_val,y_val):\n",
        "    clf.fit(X_train,y_train)\n",
        "    y_pred = clf.predict(X_test)\n",
        "    accuracy = mean_absolute_percentage_error(y_val,y_pred)\n",
        "    \n",
        "    return accuracy"
      ],
      "metadata": {
        "id": "FfkRyEczq_O8"
      },
      "execution_count": null,
      "outputs": []
    },
    {
      "cell_type": "code",
      "source": [
        "scores = []\n",
        "\n",
        "for name,clf in clfs.items():\n",
        "    \n",
        "    current_accuracy,current_precision = train_classifier(clf, X_train,y_train,X_val,y_val)\n",
        "    \n",
        "    print(\"For \",name)\n",
        "    print(\"Accuracy - \",current_accuracy)\n",
        "    print(\"Precision - \",current_precision)\n",
        "    \n",
        "    scores.append(current_accuracy)"
      ],
      "metadata": {
        "id": "i3qNl_uhrwad"
      },
      "execution_count": null,
      "outputs": []
    }
  ]
}