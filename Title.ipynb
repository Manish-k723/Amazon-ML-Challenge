{
  "nbformat": 4,
  "nbformat_minor": 0,
  "metadata": {
    "colab": {
      "provenance": [],
      "mount_file_id": "15VvwuDd-gJ1hSmHgVcQ-B8O4bbLNvlBs",
      "authorship_tag": "ABX9TyNwY5yrjAU2q+2/o3WvWwGT",
      "include_colab_link": true
    },
    "kernelspec": {
      "name": "python3",
      "display_name": "Python 3"
    },
    "language_info": {
      "name": "python"
    }
  },
  "cells": [
    {
      "cell_type": "markdown",
      "metadata": {
        "id": "view-in-github",
        "colab_type": "text"
      },
      "source": [
        "<a href=\"https://colab.research.google.com/github/Manish-k723/Amazon-ML-Challenge/blob/main/Title.ipynb\" target=\"_parent\"><img src=\"https://colab.research.google.com/assets/colab-badge.svg\" alt=\"Open In Colab\"/></a>"
      ]
    },
    {
      "cell_type": "code",
      "execution_count": null,
      "metadata": {
        "id": "Ily_5cOcwKlE"
      },
      "outputs": [],
      "source": [
        "import pandas as pd\n",
        "import numpy as np\n",
        "import nltk\n",
        "from nltk.stem import WordNetLemmatizer, SnowballStemmer\n",
        "from nltk.tokenize import word_tokenize\n",
        "# from sklearn.model_selection import train_test_split\n",
        "from sklearn.preprocessing import StandardScaler\n",
        "\n",
        "# from sklearn.ensemble import AdaBoostClassifier\n",
        "# from sklearn.neighbors import KNeighborsClassifier\n",
        "# from sklearn.ensemble import BaggingClassifier\n",
        "# from sklearn.ensemble import ExtraTreesClassifier\n",
        "from sklearn.feature_extraction.text import TfidfVectorizer"
      ]
    },
    {
      "cell_type": "code",
      "source": [
        "%%time\n",
        "df = pd.read_csv('/content/drive/MyDrive/Colab Notebooks/train.csv',usecols = [\"TITLE\", \"BULLET_POINTS\", \"DESCRIPTION\", \n",
        "                                                                                                 \"PRODUCT_TYPE_ID\",\"PRODUCT_LENGTH\"],\n",
        "                  dtype  = {'BULLET_POINTS': 'category','DESCRIPTION':'category','DESCRIPTION':'category',\"PRODUCT_TYPE_ID\": 'int16',\"PRODUCT_LENGTH\":'float32'})"
      ],
      "metadata": {
        "colab": {
          "base_uri": "https://localhost:8080/"
        },
        "id": "Jdx5UOGc9kZ-",
        "outputId": "5d71788d-63e9-4d9b-dc9e-9272d93c2730"
      },
      "execution_count": null,
      "outputs": [
        {
          "output_type": "stream",
          "name": "stdout",
          "text": [
            "CPU times: user 48.5 s, sys: 4.72 s, total: 53.2 s\n",
            "Wall time: 1min 4s\n"
          ]
        }
      ]
    },
    {
      "cell_type": "code",
      "source": [
        "test_df = pd.read_csv('/content/drive/MyDrive/Colab Notebooks/test.csv', usecols = [\"TITLE\", \"BULLET_POINTS\", \"DESCRIPTION\", \"PRODUCT_TYPE_ID\"],\n",
        "                      dtype  = {'BULLET_POINTS': 'category','DESCRIPTION':'category','DESCRIPTION':'category',\"PRODUCT_TYPE_ID\": 'int16'})"
      ],
      "metadata": {
        "id": "9jS1RsG_9rka"
      },
      "execution_count": null,
      "outputs": []
    },
    {
      "cell_type": "code",
      "source": [
        "nltk.download('punkt')\n",
        "nltk.download('wordnet')\n",
        "nltk.download('stopwords')\n",
        "lemmatizer = WordNetLemmatizer()\n",
        "stemmer = SnowballStemmer(\"english\")\n",
        "stopwords = set(nltk.corpus.stopwords.words('english'))"
      ],
      "metadata": {
        "colab": {
          "base_uri": "https://localhost:8080/"
        },
        "id": "ekMv0RwO-Pgq",
        "outputId": "f32e677e-dc66-4666-8289-9dcc15d5edd8"
      },
      "execution_count": null,
      "outputs": [
        {
          "output_type": "stream",
          "name": "stderr",
          "text": [
            "[nltk_data] Downloading package punkt to /root/nltk_data...\n",
            "[nltk_data]   Unzipping tokenizers/punkt.zip.\n",
            "[nltk_data] Downloading package wordnet to /root/nltk_data...\n",
            "[nltk_data] Downloading package stopwords to /root/nltk_data...\n",
            "[nltk_data]   Unzipping corpora/stopwords.zip.\n"
          ]
        }
      ]
    },
    {
      "cell_type": "code",
      "source": [
        "def tokenize(text):\n",
        "      tokens = word_tokenize(text.lower())\n",
        "      tokens = [lemmatizer.lemmatize(token) for token in tokens]\n",
        "      tokens = [stemmer.stem(token) for token in tokens if not token in stopwords]\n",
        "      return tokens"
      ],
      "metadata": {
        "id": "-k5OUDPU-FKi"
      },
      "execution_count": null,
      "outputs": []
    },
    {
      "cell_type": "code",
      "source": [
        "df['BULLET_POINTS'] = df['BULLET_POINTS'].cat.add_categories([''])\n",
        "df['DESCRIPTION'] = df['DESCRIPTION'].cat.add_categories([''])"
      ],
      "metadata": {
        "id": "040KnN3c-SYO"
      },
      "execution_count": null,
      "outputs": []
    },
    {
      "cell_type": "code",
      "source": [
        "df.dropna(subset = ['TITLE'], inplace = True)\n",
        "df['BULLET_POINTS'] = df['BULLET_POINTS'].fillna('')\n",
        "df['DESCRIPTION'] = df['DESCRIPTION'].fillna('')"
      ],
      "metadata": {
        "id": "NgSuahnw-XEr"
      },
      "execution_count": null,
      "outputs": []
    },
    {
      "cell_type": "code",
      "source": [
        "test_df['BULLET_POINTS'] = test_df['BULLET_POINTS'].cat.add_categories([''])\n",
        "test_df['DESCRIPTION'] = test_df['DESCRIPTION'].cat.add_categories([''])"
      ],
      "metadata": {
        "id": "8OhELvh9-Y0s"
      },
      "execution_count": null,
      "outputs": []
    },
    {
      "cell_type": "code",
      "source": [
        "test_df['TITLE'] = test_df['TITLE'].fillna('')\n",
        "test_df['BULLET_POINTS'] = test_df['BULLET_POINTS'].fillna('')\n",
        "test_df['DESCRIPTION'] = test_df['DESCRIPTION'].fillna('')"
      ],
      "metadata": {
        "id": "6nco0JbU-amW"
      },
      "execution_count": null,
      "outputs": []
    },
    {
      "cell_type": "code",
      "source": [
        "X = df[[\"TITLE\", \"BULLET_POINTS\", \"DESCRIPTION\", \"PRODUCT_TYPE_ID\"]]\n",
        "y = df[\"PRODUCT_LENGTH\"]\n",
        "    # X_test = test_df[[\"TITLE\", \"BULLET_POINTS\", \"DESCRIPTION\", \"PRODUCT_TYPE_ID\"]]\n",
        "    # Split the data into training and test sets\n",
        "    # X_train, X_val, y_train, y_val = train_test_split(X, y, test_size=0.2, random_state=42)\n",
        "scaler = StandardScaler()\n",
        "    # Vectorize the text data using TF-IDF\n",
        "vectorizer = TfidfVectorizer(stop_words=\"english\", tokenizer=tokenize)"
      ],
      "metadata": {
        "id": "tZvU3g-j-caP"
      },
      "execution_count": null,
      "outputs": []
    },
    {
      "cell_type": "code",
      "source": [
        "X_test = test_df.copy()"
      ],
      "metadata": {
        "id": "dS-agKXN-lWh"
      },
      "execution_count": null,
      "outputs": []
    },
    {
      "cell_type": "code",
      "source": [
        "%%time\n",
        "X_title = vectorizer.fit(X[\"TITLE\"])\n",
        "X_test_title = vectorizer.transform(X_test[\"TITLE\"])"
      ],
      "metadata": {
        "colab": {
          "base_uri": "https://localhost:8080/"
        },
        "id": "K9EKJg5M-hkJ",
        "outputId": "dae841e7-fe16-4023-fb5b-ec8105573a7c"
      },
      "execution_count": null,
      "outputs": [
        {
          "output_type": "stream",
          "name": "stderr",
          "text": [
            "/usr/local/lib/python3.9/dist-packages/sklearn/feature_extraction/text.py:528: UserWarning: The parameter 'token_pattern' will not be used since 'tokenizer' is not None'\n",
            "  warnings.warn(\n",
            "/usr/local/lib/python3.9/dist-packages/sklearn/feature_extraction/text.py:409: UserWarning: Your stop_words may be inconsistent with your preprocessing. Tokenizing the stop words generated tokens ['afterward', 'alon', 'alreadi', 'alway', 'anoth', 'anyon', 'anyth', 'anywher', 'becam', 'becom', 'besid', 'cri', 'describ', 'els', 'elsewher', 'empti', 'everi', 'everyon', 'everyth', 'everywher', 'fifti', 'forti', 'ha', 'henc', 'hereaft', 'herebi', 'howev', 'hundr', 'inde', 'le', 'mani', 'meanwhil', 'moreov', 'nobodi', 'noon', 'noth', 'nowher', 'otherwis', 'perhap', 'pleas', 'sever', 'sinc', 'sincer', 'sixti', 'someon', 'someth', 'sometim', 'somewher', 'thenc', 'thereaft', 'therebi', 'therefor', 'togeth', 'twelv', 'twenti', 'u', 'wa', 'whatev', 'whenc', 'whenev', 'wherea', 'whereaft', 'wherebi', 'wherev'] not in stop_words.\n",
            "  warnings.warn(\n"
          ]
        },
        {
          "output_type": "stream",
          "name": "stdout",
          "text": [
            "CPU times: user 21min 26s, sys: 5.09 s, total: 21min 31s\n",
            "Wall time: 22min 5s\n"
          ]
        }
      ]
    },
    {
      "cell_type": "code",
      "source": [
        "import pickle"
      ],
      "metadata": {
        "id": "LTbyYiQEGzqF"
      },
      "execution_count": null,
      "outputs": []
    },
    {
      "cell_type": "code",
      "source": [
        "pickle.dump(X_title, open('X_title.pkl','wb'))\n",
        "pickle.dump(X_test_title, open('X_test_title.pkl','wb'))"
      ],
      "metadata": {
        "id": "ObAebgXYA-E7"
      },
      "execution_count": null,
      "outputs": []
    },
    {
      "cell_type": "code",
      "source": [
        "from google.colab import files"
      ],
      "metadata": {
        "id": "u8E8HPT4pmE8"
      },
      "execution_count": null,
      "outputs": []
    },
    {
      "cell_type": "code",
      "source": [
        "files.download('X_title.pkl')\n",
        "files.download('X_test_title.pkl')"
      ],
      "metadata": {
        "colab": {
          "base_uri": "https://localhost:8080/",
          "height": 17
        },
        "id": "uByOvg_OpnLJ",
        "outputId": "f8c106aa-ae7e-4224-d2bd-bcd27159aba5"
      },
      "execution_count": null,
      "outputs": [
        {
          "output_type": "display_data",
          "data": {
            "text/plain": [
              "<IPython.core.display.Javascript object>"
            ],
            "application/javascript": [
              "\n",
              "    async function download(id, filename, size) {\n",
              "      if (!google.colab.kernel.accessAllowed) {\n",
              "        return;\n",
              "      }\n",
              "      const div = document.createElement('div');\n",
              "      const label = document.createElement('label');\n",
              "      label.textContent = `Downloading \"${filename}\": `;\n",
              "      div.appendChild(label);\n",
              "      const progress = document.createElement('progress');\n",
              "      progress.max = size;\n",
              "      div.appendChild(progress);\n",
              "      document.body.appendChild(div);\n",
              "\n",
              "      const buffers = [];\n",
              "      let downloaded = 0;\n",
              "\n",
              "      const channel = await google.colab.kernel.comms.open(id);\n",
              "      // Send a message to notify the kernel that we're ready.\n",
              "      channel.send({})\n",
              "\n",
              "      for await (const message of channel.messages) {\n",
              "        // Send a message to notify the kernel that we're ready.\n",
              "        channel.send({})\n",
              "        if (message.buffers) {\n",
              "          for (const buffer of message.buffers) {\n",
              "            buffers.push(buffer);\n",
              "            downloaded += buffer.byteLength;\n",
              "            progress.value = downloaded;\n",
              "          }\n",
              "        }\n",
              "      }\n",
              "      const blob = new Blob(buffers, {type: 'application/binary'});\n",
              "      const a = document.createElement('a');\n",
              "      a.href = window.URL.createObjectURL(blob);\n",
              "      a.download = filename;\n",
              "      div.appendChild(a);\n",
              "      a.click();\n",
              "      div.remove();\n",
              "    }\n",
              "  "
            ]
          },
          "metadata": {}
        },
        {
          "output_type": "display_data",
          "data": {
            "text/plain": [
              "<IPython.core.display.Javascript object>"
            ],
            "application/javascript": [
              "download(\"download_0ec90aae-9691-4768-9e35-f06a9d506b7b\", \"X_title.pkl\", 37475671)"
            ]
          },
          "metadata": {}
        },
        {
          "output_type": "display_data",
          "data": {
            "text/plain": [
              "<IPython.core.display.Javascript object>"
            ],
            "application/javascript": [
              "\n",
              "    async function download(id, filename, size) {\n",
              "      if (!google.colab.kernel.accessAllowed) {\n",
              "        return;\n",
              "      }\n",
              "      const div = document.createElement('div');\n",
              "      const label = document.createElement('label');\n",
              "      label.textContent = `Downloading \"${filename}\": `;\n",
              "      div.appendChild(label);\n",
              "      const progress = document.createElement('progress');\n",
              "      progress.max = size;\n",
              "      div.appendChild(progress);\n",
              "      document.body.appendChild(div);\n",
              "\n",
              "      const buffers = [];\n",
              "      let downloaded = 0;\n",
              "\n",
              "      const channel = await google.colab.kernel.comms.open(id);\n",
              "      // Send a message to notify the kernel that we're ready.\n",
              "      channel.send({})\n",
              "\n",
              "      for await (const message of channel.messages) {\n",
              "        // Send a message to notify the kernel that we're ready.\n",
              "        channel.send({})\n",
              "        if (message.buffers) {\n",
              "          for (const buffer of message.buffers) {\n",
              "            buffers.push(buffer);\n",
              "            downloaded += buffer.byteLength;\n",
              "            progress.value = downloaded;\n",
              "          }\n",
              "        }\n",
              "      }\n",
              "      const blob = new Blob(buffers, {type: 'application/binary'});\n",
              "      const a = document.createElement('a');\n",
              "      a.href = window.URL.createObjectURL(blob);\n",
              "      a.download = filename;\n",
              "      div.appendChild(a);\n",
              "      a.click();\n",
              "      div.remove();\n",
              "    }\n",
              "  "
            ]
          },
          "metadata": {}
        },
        {
          "output_type": "display_data",
          "data": {
            "text/plain": [
              "<IPython.core.display.Javascript object>"
            ],
            "application/javascript": [
              "download(\"download_1941d8ed-09ae-43c0-9346-114013ee27ce\", \"X_test_title.pkl\", 109421085)"
            ]
          },
          "metadata": {}
        }
      ]
    },
    {
      "cell_type": "code",
      "source": [
        "print(X_test_title)"
      ],
      "metadata": {
        "id": "HVhAvqD9un2S"
      },
      "execution_count": null,
      "outputs": []
    },
    {
      "cell_type": "code",
      "source": [
        "# X_title.to_csv('X_title.csv')\n",
        "# X_test_title.to_csv('X_test_title.csv')"
      ],
      "metadata": {
        "id": "jX9A5BAcGxEs"
      },
      "execution_count": null,
      "outputs": []
    },
    {
      "cell_type": "code",
      "source": [
        "print(vectorizer)"
      ],
      "metadata": {
        "colab": {
          "base_uri": "https://localhost:8080/"
        },
        "id": "823BP5Q9yrUE",
        "outputId": "d15b6006-b4fc-4035-dd3e-3f81a148888e"
      },
      "execution_count": null,
      "outputs": [
        {
          "output_type": "stream",
          "name": "stdout",
          "text": [
            "TfidfVectorizer(stop_words='english',\n",
            "                tokenizer=<function tokenize at 0x7f23ec74f4c0>)\n"
          ]
        }
      ]
    },
    {
      "cell_type": "code",
      "source": [
        "pickle.dump(vectorizer,open('title_vector.pkl','wb'))"
      ],
      "metadata": {
        "id": "O0iAvf3BIwkY"
      },
      "execution_count": null,
      "outputs": []
    }
  ]
}