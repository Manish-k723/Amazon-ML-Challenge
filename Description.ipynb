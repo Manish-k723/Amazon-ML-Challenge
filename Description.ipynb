{
  "cells": [
    {
      "cell_type": "markdown",
      "metadata": {
        "id": "view-in-github",
        "colab_type": "text"
      },
      "source": [
        "<a href=\"https://colab.research.google.com/github/Manish-k723/Amazon-ML-Challenge/blob/main/Description.ipynb\" target=\"_parent\"><img src=\"https://colab.research.google.com/assets/colab-badge.svg\" alt=\"Open In Colab\"/></a>"
      ]
    },
    {
      "cell_type": "code",
      "execution_count": null,
      "metadata": {
        "id": "UBeKUVQ8JXBX"
      },
      "outputs": [],
      "source": [
        "import pandas as pd\n",
        "import numpy as np\n",
        "import nltk\n",
        "from nltk.stem import WordNetLemmatizer, SnowballStemmer\n",
        "from nltk.tokenize import word_tokenize\n",
        "# from sklearn.model_selection import train_test_split\n",
        "from sklearn.preprocessing import StandardScaler\n",
        "\n",
        "# from sklearn.ensemble import AdaBoostClassifier\n",
        "# from sklearn.neighbors import KNeighborsClassifier\n",
        "# from sklearn.ensemble import BaggingClassifier\n",
        "# from sklearn.ensemble import ExtraTreesClassifier\n",
        "from sklearn.feature_extraction.text import TfidfVectorizer"
      ]
    },
    {
      "cell_type": "code",
      "execution_count": null,
      "metadata": {
        "colab": {
          "base_uri": "https://localhost:8080/"
        },
        "id": "jLn4SMM7Jb8k",
        "outputId": "fb976d5a-d3a7-483b-8b8d-424b2a4cd63a"
      },
      "outputs": [
        {
          "output_type": "stream",
          "name": "stdout",
          "text": [
            "CPU times: user 47.5 s, sys: 6.55 s, total: 54.1 s\n",
            "Wall time: 1min 9s\n"
          ]
        }
      ],
      "source": [
        "%%time\n",
        "df = pd.read_csv('/content/drive/MyDrive/Colab Notebooks/train.csv',usecols = [\"TITLE\", \"BULLET_POINTS\", \"DESCRIPTION\", \n",
        "                                                                                                 \"PRODUCT_TYPE_ID\",\"PRODUCT_LENGTH\"],\n",
        "                  dtype  = {'BULLET_POINTS': 'category','DESCRIPTION':'category','DESCRIPTION':'category',\"PRODUCT_TYPE_ID\": 'int16',\"PRODUCT_LENGTH\":'float32'})"
      ]
    },
    {
      "cell_type": "code",
      "execution_count": null,
      "metadata": {
        "id": "Xq7EWLfCJeQi"
      },
      "outputs": [],
      "source": [
        "test_df = pd.read_csv('/content/drive/MyDrive/Colab Notebooks/test.csv', usecols = [\"TITLE\", \"BULLET_POINTS\", \"DESCRIPTION\", \"PRODUCT_TYPE_ID\"],\n",
        "                      dtype  = {'BULLET_POINTS': 'category','DESCRIPTION':'category','DESCRIPTION':'category',\"PRODUCT_TYPE_ID\": 'int16'})"
      ]
    },
    {
      "cell_type": "code",
      "execution_count": null,
      "metadata": {
        "colab": {
          "base_uri": "https://localhost:8080/"
        },
        "id": "ZNk3H_ffJjcT",
        "outputId": "4276454c-a4db-40df-ef23-3074a78cf29b"
      },
      "outputs": [
        {
          "output_type": "stream",
          "name": "stderr",
          "text": [
            "[nltk_data] Downloading package punkt to /root/nltk_data...\n",
            "[nltk_data]   Unzipping tokenizers/punkt.zip.\n",
            "[nltk_data] Downloading package wordnet to /root/nltk_data...\n",
            "[nltk_data] Downloading package stopwords to /root/nltk_data...\n",
            "[nltk_data]   Unzipping corpora/stopwords.zip.\n"
          ]
        }
      ],
      "source": [
        "nltk.download('punkt')\n",
        "nltk.download('wordnet')\n",
        "nltk.download('stopwords')\n",
        "lemmatizer = WordNetLemmatizer()\n",
        "stemmer = SnowballStemmer(\"english\")\n",
        "stopwords = set(nltk.corpus.stopwords.words('english'))"
      ]
    },
    {
      "cell_type": "code",
      "execution_count": null,
      "metadata": {
        "id": "0jA9ncjBJlsd"
      },
      "outputs": [],
      "source": [
        "def tokenize(text):\n",
        "      tokens = word_tokenize(text.lower())\n",
        "      tokens = [lemmatizer.lemmatize(token) for token in tokens]\n",
        "      tokens = [stemmer.stem(token) for token in tokens if not token in stopwords]\n",
        "      return tokens"
      ]
    },
    {
      "cell_type": "code",
      "execution_count": null,
      "metadata": {
        "id": "eVIIBd1VJmdI"
      },
      "outputs": [],
      "source": [
        "df['BULLET_POINTS'] = df['BULLET_POINTS'].cat.add_categories([''])\n",
        "df['DESCRIPTION'] = df['DESCRIPTION'].cat.add_categories([''])\n",
        "df.dropna(subset = ['TITLE'], inplace = True)\n",
        "df['BULLET_POINTS'] = df['BULLET_POINTS'].fillna('')\n",
        "df['DESCRIPTION'] = df['DESCRIPTION'].fillna('')"
      ]
    },
    {
      "cell_type": "code",
      "execution_count": null,
      "metadata": {
        "id": "a3ODLJrGJstW"
      },
      "outputs": [],
      "source": [
        "test_df['BULLET_POINTS'] = test_df['BULLET_POINTS'].cat.add_categories([''])\n",
        "test_df['DESCRIPTION'] = test_df['DESCRIPTION'].cat.add_categories([''])\n",
        "test_df['TITLE'] = test_df['TITLE'].fillna('')\n",
        "test_df['BULLET_POINTS'] = test_df['BULLET_POINTS'].fillna('')\n",
        "test_df['DESCRIPTION'] = test_df['DESCRIPTION'].fillna('')"
      ]
    },
    {
      "cell_type": "code",
      "execution_count": null,
      "metadata": {
        "id": "pVl2PmzBJxos"
      },
      "outputs": [],
      "source": [
        "X = df[[\"TITLE\", \"BULLET_POINTS\", \"DESCRIPTION\", \"PRODUCT_TYPE_ID\"]]\n",
        "y = df[\"PRODUCT_LENGTH\"]\n",
        "    # X_test = test_df[[\"TITLE\", \"BULLET_POINTS\", \"DESCRIPTION\", \"PRODUCT_TYPE_ID\"]]\n",
        "    # Split the data into training and test sets\n",
        "    # X_train, X_val, y_train, y_val = train_test_split(X, y, test_size=0.2, random_state=42)\n",
        "scaler = StandardScaler()\n",
        "    # Vectorize the text data using TF-IDF\n",
        "vectorizer = TfidfVectorizer(stop_words=\"english\", tokenizer=tokenize)"
      ]
    },
    {
      "cell_type": "code",
      "execution_count": null,
      "metadata": {
        "id": "G7HjLHydJyq3"
      },
      "outputs": [],
      "source": [
        "import pickle"
      ]
    },
    {
      "cell_type": "code",
      "execution_count": null,
      "metadata": {
        "colab": {
          "base_uri": "https://localhost:8080/"
        },
        "id": "BmHBbIkGJ5ps",
        "outputId": "3bf3300a-f261-46ce-e773-e8322c68cdb8"
      },
      "outputs": [
        {
          "output_type": "stream",
          "name": "stderr",
          "text": [
            "/usr/local/lib/python3.9/dist-packages/sklearn/feature_extraction/text.py:528: UserWarning: The parameter 'token_pattern' will not be used since 'tokenizer' is not None'\n",
            "  warnings.warn(\n",
            "/usr/local/lib/python3.9/dist-packages/sklearn/feature_extraction/text.py:409: UserWarning: Your stop_words may be inconsistent with your preprocessing. Tokenizing the stop words generated tokens ['afterward', 'alon', 'alreadi', 'alway', 'anoth', 'anyon', 'anyth', 'anywher', 'becam', 'becom', 'besid', 'cri', 'describ', 'els', 'elsewher', 'empti', 'everi', 'everyon', 'everyth', 'everywher', 'fifti', 'forti', 'ha', 'henc', 'hereaft', 'herebi', 'howev', 'hundr', 'inde', 'le', 'mani', 'meanwhil', 'moreov', 'nobodi', 'noon', 'noth', 'nowher', 'otherwis', 'perhap', 'pleas', 'sever', 'sinc', 'sincer', 'sixti', 'someon', 'someth', 'sometim', 'somewher', 'thenc', 'thereaft', 'therebi', 'therefor', 'togeth', 'twelv', 'twenti', 'u', 'wa', 'whatev', 'whenc', 'whenev', 'wherea', 'whereaft', 'wherebi', 'wherev'] not in stop_words.\n",
            "  warnings.warn(\n"
          ]
        },
        {
          "output_type": "stream",
          "name": "stdout",
          "text": [
            "CPU times: user 1h 5min 17s, sys: 20.2 s, total: 1h 5min 37s\n",
            "Wall time: 1h 6min 36s\n"
          ]
        }
      ],
      "source": [
        "%%time\n",
        "X_desc = vectorizer.fit(X[\"DESCRIPTION\"])\n",
        "X_test_desc = vectorizer.transform(test_df[\"DESCRIPTION\"])"
      ]
    },
    {
      "cell_type": "code",
      "execution_count": null,
      "metadata": {
        "id": "T0H9UlsOJ8lP"
      },
      "outputs": [],
      "source": [
        "pickle.dump(X_desc, open('X_desc.pkl','wb'))\n",
        "pickle.dump(X_test_desc, open('X_test_desc.pkl','wb'))"
      ]
    },
    {
      "cell_type": "code",
      "execution_count": null,
      "metadata": {
        "id": "WFPrLfp1J3u3"
      },
      "outputs": [],
      "source": [
        "# %%time\n",
        "# X = np.hstack([X_title.toarray(), X_bullet.toarray(), X_desc.toarray(), X[[\"PRODUCT_TYPE_ID\"]]])\n",
        "# X_test = np.hstack([X_test_title.toarray(), X_test_bullet.toarray(), X_test_desc.toarray(), X_test[[\"PRODUCT_TYPE_ID\"]]])"
      ]
    },
    {
      "cell_type": "code",
      "source": [
        "from google.colab import files\n",
        "files.download('X_desc.pkl')\n",
        "files.download('X_test_desc.pkl')"
      ],
      "metadata": {
        "colab": {
          "base_uri": "https://localhost:8080/",
          "height": 17
        },
        "id": "SaB8Cx5esB3Q",
        "outputId": "e5ac88f6-df8d-42c3-b9b6-8d88a033f1af"
      },
      "execution_count": null,
      "outputs": [
        {
          "output_type": "display_data",
          "data": {
            "text/plain": [
              "<IPython.core.display.Javascript object>"
            ],
            "application/javascript": [
              "\n",
              "    async function download(id, filename, size) {\n",
              "      if (!google.colab.kernel.accessAllowed) {\n",
              "        return;\n",
              "      }\n",
              "      const div = document.createElement('div');\n",
              "      const label = document.createElement('label');\n",
              "      label.textContent = `Downloading \"${filename}\": `;\n",
              "      div.appendChild(label);\n",
              "      const progress = document.createElement('progress');\n",
              "      progress.max = size;\n",
              "      div.appendChild(progress);\n",
              "      document.body.appendChild(div);\n",
              "\n",
              "      const buffers = [];\n",
              "      let downloaded = 0;\n",
              "\n",
              "      const channel = await google.colab.kernel.comms.open(id);\n",
              "      // Send a message to notify the kernel that we're ready.\n",
              "      channel.send({})\n",
              "\n",
              "      for await (const message of channel.messages) {\n",
              "        // Send a message to notify the kernel that we're ready.\n",
              "        channel.send({})\n",
              "        if (message.buffers) {\n",
              "          for (const buffer of message.buffers) {\n",
              "            buffers.push(buffer);\n",
              "            downloaded += buffer.byteLength;\n",
              "            progress.value = downloaded;\n",
              "          }\n",
              "        }\n",
              "      }\n",
              "      const blob = new Blob(buffers, {type: 'application/binary'});\n",
              "      const a = document.createElement('a');\n",
              "      a.href = window.URL.createObjectURL(blob);\n",
              "      a.download = filename;\n",
              "      div.appendChild(a);\n",
              "      a.click();\n",
              "      div.remove();\n",
              "    }\n",
              "  "
            ]
          },
          "metadata": {}
        },
        {
          "output_type": "display_data",
          "data": {
            "text/plain": [
              "<IPython.core.display.Javascript object>"
            ],
            "application/javascript": [
              "download(\"download_df672b4a-f011-4a5b-8b6a-d3dcd04fb6a5\", \"X_desc.pkl\", 33244521)"
            ]
          },
          "metadata": {}
        },
        {
          "output_type": "display_data",
          "data": {
            "text/plain": [
              "<IPython.core.display.Javascript object>"
            ],
            "application/javascript": [
              "\n",
              "    async function download(id, filename, size) {\n",
              "      if (!google.colab.kernel.accessAllowed) {\n",
              "        return;\n",
              "      }\n",
              "      const div = document.createElement('div');\n",
              "      const label = document.createElement('label');\n",
              "      label.textContent = `Downloading \"${filename}\": `;\n",
              "      div.appendChild(label);\n",
              "      const progress = document.createElement('progress');\n",
              "      progress.max = size;\n",
              "      div.appendChild(progress);\n",
              "      document.body.appendChild(div);\n",
              "\n",
              "      const buffers = [];\n",
              "      let downloaded = 0;\n",
              "\n",
              "      const channel = await google.colab.kernel.comms.open(id);\n",
              "      // Send a message to notify the kernel that we're ready.\n",
              "      channel.send({})\n",
              "\n",
              "      for await (const message of channel.messages) {\n",
              "        // Send a message to notify the kernel that we're ready.\n",
              "        channel.send({})\n",
              "        if (message.buffers) {\n",
              "          for (const buffer of message.buffers) {\n",
              "            buffers.push(buffer);\n",
              "            downloaded += buffer.byteLength;\n",
              "            progress.value = downloaded;\n",
              "          }\n",
              "        }\n",
              "      }\n",
              "      const blob = new Blob(buffers, {type: 'application/binary'});\n",
              "      const a = document.createElement('a');\n",
              "      a.href = window.URL.createObjectURL(blob);\n",
              "      a.download = filename;\n",
              "      div.appendChild(a);\n",
              "      a.click();\n",
              "      div.remove();\n",
              "    }\n",
              "  "
            ]
          },
          "metadata": {}
        },
        {
          "output_type": "display_data",
          "data": {
            "text/plain": [
              "<IPython.core.display.Javascript object>"
            ],
            "application/javascript": [
              "download(\"download_dfbfea1f-69c1-4f07-a717-8a66c29a3b23\", \"X_test_desc.pkl\", 221390121)"
            ]
          },
          "metadata": {}
        }
      ]
    },
    {
      "cell_type": "code",
      "source": [
        "pickle.dump(vectorizer, open('desc_vector.pkl','wb'))"
      ],
      "metadata": {
        "id": "PGH2NM_K4TF5"
      },
      "execution_count": null,
      "outputs": []
    }
  ],
  "metadata": {
    "colab": {
      "provenance": [],
      "mount_file_id": "1dQb5xD0kJETuAHCuaed4gBJ1rRaIoLIf",
      "authorship_tag": "ABX9TyOt+8cg6WsQFOMYys3Tlqe9",
      "include_colab_link": true
    },
    "kernelspec": {
      "display_name": "Python 3",
      "name": "python3"
    },
    "language_info": {
      "name": "python"
    }
  },
  "nbformat": 4,
  "nbformat_minor": 0
}